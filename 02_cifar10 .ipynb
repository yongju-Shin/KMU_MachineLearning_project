{
  "nbformat": 4,
  "nbformat_minor": 0,
  "metadata": {
    "colab": {
      "provenance": []
    },
    "kernelspec": {
      "name": "python3",
      "display_name": "Python 3"
    },
    "accelerator": "GPU"
  },
  "cells": [
    {
      "cell_type": "code",
      "metadata": {
        "id": "n7If-ZG62SnV",
        "outputId": "16dece2d-ee53-4273-a6ef-934cd4e24689",
        "colab": {
          "base_uri": "https://localhost:8080/"
        }
      },
      "source": [
        "# 사용할 모듈 like include\n",
        "from tensorflow.keras.datasets import cifar10\n",
        "from tensorflow.keras.models import Sequential\n",
        "from tensorflow.keras.layers import Dense, Flatten\n",
        "from tensorflow.keras.utils import to_categorical\n",
        "import matplotlib.pyplot as plt\n",
        "\n",
        "# cifar10 데이터 로드, 유명한 데이터들은 keras 라이브러리에서 다운로드 가능\n",
        "# 32 x 32, 10개 클래스, 60000장 이미지 (각 클래스 당 6000장, 5000 for training, 1000 for testing)\n",
        "# 28x28 크기, 784 픽셀\n",
        "# x_train:학습용 이미지,  y_train:학습용 이미지 레이블,  x_test:테스트용 이미지,  y_test:테스트용 이미지 레이블\n",
        "labels = ['비행기', '자동차', '새', '고양이', '사슴', '개', '개구리', '말', '배', '트럭']\n",
        "(x_train, y_train), (x_test, y_test) = cifar10.load_data()\n"
      ],
      "execution_count": null,
      "outputs": [
        {
          "output_type": "stream",
          "name": "stdout",
          "text": [
            "Downloading data from https://www.cs.toronto.edu/~kriz/cifar-10-python.tar.gz\n",
            "170500096/170498071 [==============================] - 2s 0us/step\n",
            "170508288/170498071 [==============================] - 2s 0us/step\n"
          ]
        }
      ]
    },
    {
      "cell_type": "code",
      "metadata": {
        "id": "fznC9wXn2zi6"
      },
      "source": [
        "print(x_train.shape)  # (50000, 32, 32, 3)\n",
        "print(x_test.shape)  # (10000, 32, 32, 3)\n",
        "print(y_train.shape)  # (50000, 1)\n",
        "print(y_test.shape)  # (10000, 1)\n"
      ],
      "execution_count": null,
      "outputs": []
    },
    {
      "cell_type": "code",
      "metadata": {
        "id": "LLH7ksqR2Vva"
      },
      "source": [
        "plt.figure()\n",
        "plt.imshow(x_train[0])\n",
        "plt.show()\n",
        "\n",
        "print(y_train[0][0])\n",
        "\n",
        "print(labels[y_train[0][0]])"
      ],
      "execution_count": null,
      "outputs": []
    },
    {
      "cell_type": "code",
      "metadata": {
        "id": "DsMPQoLz2Vy3"
      },
      "source": [
        "# 픽셀 값(0~255) to (0~1)\n",
        "x_train = x_train / 255.0\n",
        "x_test = x_test / 255.0"
      ],
      "execution_count": null,
      "outputs": []
    },
    {
      "cell_type": "code",
      "metadata": {
        "id": "FcrFlE0D2V10"
      },
      "source": [
        "num_classes = 10    # 분류할 클래스 개수\n",
        "\n",
        "# one-hot encoding : 0~9 라벨을 10차원 0,1 벡터로 표현 예) 3 --> (0, 0, 0, 1, 0, 0, 0, 0, 0, 0)\n",
        "y_train = to_categorical(y_train, num_classes)\n",
        "y_test = to_categorical(y_test, num_classes)\n",
        "\n",
        "print(y_train[0])\n",
        "\n",
        "print(y_train.shape)  # (50000, 10)\n",
        "print(y_test.shape)  # (10000, 10)"
      ],
      "execution_count": null,
      "outputs": []
    },
    {
      "cell_type": "code",
      "metadata": {
        "id": "FKLRAQpk2XwP"
      },
      "source": [
        "# 순차모델\n",
        "model = Sequential()\n",
        "model.add(Flatten(input_shape = (32, 32, 3)))  # in : (32, 32, 3), out : 3072\n",
        "model.add(Dense(1024, activation='relu'))    # in : 3072, out : 1024\n",
        "model.add(Dense(128, activation='relu'))    # in : 1024, out : 128\n",
        "model.add(Dense(num_classes, activation='softmax'))   # in : 128, out : 10\n",
        "# Dense : Fully Connected Layer\n",
        "# activation : 활성화 함수, 노드에 들어오는 값들에 대해 곧바로 다음 레이어로 전달하지 않고 주로 비선형 함수를 통과시킨 후 전달, \n",
        "# 비선형 함수를 사용하는 이유는 선형함수를 사용할 시 층을 깊게 하는 의미가 줄어들기 때문, relu, tanh, leakyrelu, softmax 등..\n",
        "# relu : 최근 가장 많이 사용되는 활성화 함수\n",
        "# softmax : 입력받은 값을 0~1사이의 값으로 모두 정규화하며 출력 값들의 총합은 항상 1이 되는 특성을 가진 활성화 함수, 분류용!"
      ],
      "execution_count": null,
      "outputs": []
    },
    {
      "cell_type": "code",
      "metadata": {
        "id": "eoz0HpVt2Xza"
      },
      "source": [
        "# 모델 출력\n",
        "model.summary()"
      ],
      "execution_count": null,
      "outputs": []
    },
    {
      "cell_type": "code",
      "metadata": {
        "id": "L-T9AVs82V46"
      },
      "source": [
        "# 학습 방법\n",
        "# loss : 손실함수, 일반적으로 회귀문제에서는 MSE('mean_squared_error'), 분류문제에서는 Cross Entropy Error('crossentropy')를 활용\n",
        "# optimizer : 모델 업데이트 방법, 손실함수를 최소화 하는 매개변수를 찾는 과정, Adam, SGD, RMSprop 등..\n",
        "# metrics : 훈련 단계와 테스트 단계를 모니터링하기 위해 사용\n",
        "model.compile(loss='categorical_crossentropy', optimizer='adam', metrics=['accuracy'])"
      ],
      "execution_count": null,
      "outputs": []
    },
    {
      "cell_type": "code",
      "metadata": {
        "id": "ExJhopdf2V72"
      },
      "source": [
        "# 학습\n",
        "# batch_size : 한번에 학습할 데이터의 갯수, 학습속도 vs 메모리\n",
        "# epochs : 전체 데이터를 몇 번 반복해서 학습 시킬 것인가\n",
        "# validation_data : 학습 중에 테스트할 데이터\n",
        "history = model.fit(x_train, y_train, batch_size=128, epochs=30, verbose=1, validation_data=(x_test, y_test))"
      ],
      "execution_count": null,
      "outputs": []
    },
    {
      "cell_type": "code",
      "metadata": {
        "id": "Ty2JqQ3_2V_C"
      },
      "source": [
        "# 테스트 이미지\n",
        "test_imgs = x_test[:5]"
      ],
      "execution_count": null,
      "outputs": []
    },
    {
      "cell_type": "code",
      "metadata": {
        "id": "jToVhJ2S2WCC"
      },
      "source": [
        "# 모델 테스트\n",
        "pred_num = model.predict(test_imgs)\n"
      ],
      "execution_count": null,
      "outputs": []
    },
    {
      "cell_type": "code",
      "metadata": {
        "id": "pz1Ck4Qe2WFH"
      },
      "source": [
        "# 확인\n",
        "for i, img in enumerate(test_imgs):\n",
        "    plt.figure()\n",
        "    plt.imshow(img)\n",
        "    plt.show()\n",
        "    class_num = pred_num[i].argmax()\n",
        "    print(labels[class_num])"
      ],
      "execution_count": null,
      "outputs": []
    }
  ]
}