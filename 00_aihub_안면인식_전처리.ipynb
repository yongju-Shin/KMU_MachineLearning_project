{
  "cells": [
    {
      "cell_type": "markdown",
      "metadata": {
        "id": "lnsnGDuBpHdq"
      },
      "source": [
        "---\n",
        "###  google colab 버전 \n",
        "* 이번 12차 수업 자료는 goole colab 버전으로 제공됩니다.\n",
        "* 구글 드라이브에 올려서 작업하세요\n",
        "---\n",
        "\n",
        "### AI HUB 에서 안면 인식 데이터 다운로드\n",
        "* https://aihub.or.kr/aidata/34143 에서 안면인식 데이터를 다운로드 받습니다\n",
        " ![image](https://aihub.or.kr/sites/default/files/2021-06/2020-02-114_%EC%95%88%EB%A9%B4%EC%9D%B8%EC%8B%9D%20%EC%98%81%EC%83%81.png)\n",
        "* 위 그림과 같은 폴더 구조이고 원천 데이터는 Training 폴더 아래에 17개의 zip 파일과 Validation 폴더 아래에 2개의 zip 파일 형태로 압축되어 있습니다.\n",
        "* 총 용량이 약 400G가 넘기 때문에 goole drive desktop 설치 등으로 다운받을 디스크 용량을 먼저 확보하세요. \n",
        "  * 구글 드라이브 데스크탑은 kookmin.ac.kr 계정이 있으면 https://dl.google.com/drive-file-stream/GoogleDriveSetup.exe 에서 다운로드 받아 설치 가능할 것으로 예상됩니다.\n",
        "* 디스크 확보가 어려운 경우 AI HUB 의 데이터 다운로드 대화창에서 전체 선택이 아닌 일부 선택을 해서 일부 파일만 다운받는 것도 가능합니다\n",
        "  ![image](https://user-images.githubusercontent.com/1628848/142525201-86197340-9356-4b7f-84a0-d4bc820306df.png)\n",
        "\n",
        "---\n",
        "### 압축 파일 드라이브 특정 위치로 옮기기\n",
        "* 아래 코드는  한 사람당 100개의 이미지를 랜덤하게 뽑아서 얼굴 인식 학습에 쓸 데이터를 준비하는 과정입니다.\n",
        "* 아래 코드의 첫 번쩨 셀을 분석한 후 ZIP_DIR에 위에서 다운받은 zip 파일들을 옮겨 넣으세요\n",
        "* 상당히 오래 걸리니 테스트로 한두개의 zip 으로 정상 동작 여부 먼저 테스트 해 보세요.  한두개의 zip 이어도 3~5시간 가량 소요될 수 있습니다. \n",
        "\n",
        "### 아래 코드를 전체 실행 하세요\n",
        "* 아래 코드를 전체 실행하세요. 수 시간 걸립니다.\n",
        "* 코드 분석 후 추출된 이미지가 저장되는 폴더에서 이미지가 잘 추출되어 쌓이고 있는지 확인하세요. \n"
      ]
    },
    {
      "cell_type": "code",
      "execution_count": null,
      "metadata": {
        "id": "Z9Eqg_Cmz4Kv"
      },
      "outputs": [],
      "source": [
        "import shutil\n",
        "from pathlib import Path\n",
        "from glob import glob\n",
        "import random\n",
        "\n",
        "from tqdm.auto import tqdm\n",
        "\n",
        "from google.colab import drive\n",
        "drive.mount('/content/gdrive')\n",
        "\n",
        "ROOT_DIR = '/content/gdrive/MyDrive/기계학습프로젝트/12차시'\n",
        "ZIP_DIR = f'{ROOT_DIR}/zip_files'\n",
        "UNZIP_DIR = f'{ROOT_DIR}/unzip_files'\n",
        "\n",
        "!ls -l $ROOT_DIR\n",
        "!ls -l $ZIP_DIR"
      ]
    },
    {
      "cell_type": "code",
      "execution_count": null,
      "metadata": {
        "id": "413VG0DVzVEG"
      },
      "outputs": [],
      "source": [
        "# zip 압축 파일 리스팅\n",
        "zip_files = glob(f'{ZIP_DIR}/*.zip')\n",
        "zip_files"
      ]
    },
    {
      "cell_type": "code",
      "execution_count": null,
      "metadata": {
        "id": "habSj-jtL6iW"
      },
      "outputs": [],
      "source": [
        "# zip 압축 파일 풀기\n",
        "for zip_file in tqdm(zip_files):\n",
        "    !unzip $zip_file -d $UNZIP_DIR\n"
      ]
    },
    {
      "cell_type": "code",
      "execution_count": null,
      "metadata": {
        "id": "fwYZl_oo0HD4"
      },
      "outputs": [],
      "source": [
        "# zip 압축 풀려진 결과물 .tar 파일 리스팅\n",
        "tars = glob(f'{UNZIP_DIR}/*/*.tar')\n",
        "len(tars), tars[0]"
      ]
    },
    {
      "cell_type": "code",
      "execution_count": null,
      "metadata": {
        "id": "FKgxR4N81Sox"
      },
      "outputs": [],
      "source": [
        "# tar 파일에서 이미지를 추출하는  함수 정의\n",
        "def extract_imgs_from_tar(tar_path, img_num = 100):\n",
        "\n",
        "    # 기존 폴더를 지우고 새로 폴더를 만드는 유틸 함수\n",
        "    def mkdir_clean(path):\n",
        "        shutil.rmtree(path, ignore_errors=True)\n",
        "        Path(path).mkdir(parents=True)\n",
        "\n",
        "    # temp 폴더에 압축을 해재한다\n",
        "    temp_dir = f'{ROOT_DIR}/tar_temp'\n",
        "    mkdir_clean(temp_dir)\n",
        "    !tar xf $tar -C $temp_dir\n",
        "\n",
        "    # jpg 이미지 리스트 읽어오기\n",
        "    imgs= f'{temp_dir}/*/*/*/real*/color/image/*.jpg'\n",
        "    imgs = glob(imgs)\n",
        "    random.shuffle(imgs)\n",
        "\n",
        "    # 복사해 넣을 이미지 폴더 생성\n",
        "    person_id = imgs[0].split('/')[-7]\n",
        "    person_dir = f'{ROOT_DIR}/images/{person_id}'\n",
        "    mkdir_clean(person_dir)\n",
        "    print(person_dir)\n",
        "\n",
        "    # 이미지와 라벨 파일 복사\n",
        "    for idx, src in enumerate(tqdm(imgs[:img_num])):\n",
        "        src2 = src.replace('.jpg', '.json')\n",
        "        dst = f'{person_dir}/{idx:03d}.jpg'\n",
        "        dst2 = dst.replace('.jpg', '.json')\n",
        "        shutil.copy(src, dst)\n",
        "        shutil.copy(src2, dst2)\n",
        "    shutil.rmtree(temp_dir, ignore_errors=True)"
      ]
    },
    {
      "cell_type": "code",
      "execution_count": null,
      "metadata": {
        "id": "F3irf4OX--VA"
      },
      "outputs": [],
      "source": [
        "# 모든 tar 파일에서 img 파일 추출 후 복사\n",
        "for tar in tqdm(tars):\n",
        "    extract_imgs_from_tar(tar)"
      ]
    },
    {
      "cell_type": "code",
      "execution_count": null,
      "metadata": {
        "id": "De5JXdgbzmAr"
      },
      "outputs": [],
      "source": [
        "# 임시 파일을 삭제한다\n",
        "print(UNZIP_DIR)\n",
        "shutil.rmtree(UNZIP_DIR, ignore_errors=True)"
      ]
    },
    {
      "cell_type": "code",
      "execution_count": null,
      "metadata": {
        "id": "TBAbvW2PYOCO"
      },
      "outputs": [],
      "source": [
        "drive.flush_and_unmount()"
      ]
    }
  ],
  "metadata": {
    "colab": {
      "provenance": []
    },
    "kernelspec": {
      "display_name": "Python 3",
      "language": "python",
      "name": "python3"
    },
    "language_info": {
      "codemirror_mode": {
        "name": "ipython",
        "version": 3
      },
      "file_extension": ".py",
      "mimetype": "text/x-python",
      "name": "python",
      "nbconvert_exporter": "python",
      "pygments_lexer": "ipython3",
      "version": "3.7.10"
    }
  },
  "nbformat": 4,
  "nbformat_minor": 0
}