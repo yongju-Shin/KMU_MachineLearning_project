{
  "cells": [
    {
      "cell_type": "code",
      "execution_count": null,
      "metadata": {
        "id": "hW3eoAaSfbar"
      },
      "outputs": [],
      "source": [
        "import IPython.display as ipd\n",
        "\n",
        "!pip install face_alignment\n",
        "\n",
        "ipd.clear_output()"
      ]
    },
    {
      "cell_type": "code",
      "execution_count": null,
      "metadata": {
        "colab": {
          "background_save": true,
          "base_uri": "https://localhost:8080/"
        },
        "id": "i1u2wwX_HmT0",
        "outputId": "c2145f63-7189-4554-9947-a63001e7d072"
      },
      "outputs": [
        {
          "name": "stdout",
          "output_type": "stream",
          "text": [
            "Mounted at /content/gdrive\n"
          ]
        }
      ],
      "source": [
        "from glob import glob\n",
        "import shutil\n",
        "from pathlib import Path\n",
        "import random\n",
        "\n",
        "import numpy as np\n",
        "from PIL import Image\n",
        "import imageio\n",
        "import cv2\n",
        "from tqdm.auto import tqdm\n",
        "\n",
        "from google.colab import drive\n",
        "drive.mount('/content/gdrive')\n",
        "\n",
        "ROOT_DIR = '/content/gdrive/MyDrive/기계학습프로젝트/12차시'\n",
        "IMG_DIR = f'{ROOT_DIR}/images'\n",
        "CROP_IMG_DIR = f'{ROOT_DIR}/images_crop'\n",
        "\n",
        "device = 'cuda:0'"
      ]
    },
    {
      "cell_type": "code",
      "execution_count": null,
      "metadata": {
        "id": "S0ZXieEB6JbP"
      },
      "outputs": [],
      "source": [
        "!nvidia-smi"
      ]
    },
    {
      "cell_type": "code",
      "execution_count": null,
      "metadata": {
        "id": "NDmMmhzyHtq4"
      },
      "outputs": [],
      "source": [
        "from face_alignment.detection.sfd import FaceDetector\n",
        "\n",
        "fd = FaceDetector(device)"
      ]
    },
    {
      "cell_type": "code",
      "execution_count": null,
      "metadata": {
        "id": "7CrljMJtCwze"
      },
      "outputs": [],
      "source": [
        "from torch.utils.data import Dataset, DataLoader\n",
        "\n",
        "class RectDataset(Dataset):\n",
        "    def __init__(self, root_dir, rect_size = 512):\n",
        "        self.images = sorted(glob(f'{root_dir}/*/*.jpg'))\n",
        "        self.rect_size = rect_size\n",
        "\n",
        "    def __len__(self):\n",
        "        return len(self.images)\n",
        "    \n",
        "    def __getitem__(self, idx):\n",
        "        path = self.images[idx]\n",
        "\n",
        "        im = imageio.imread(path)\n",
        "        im = RectDataset.to_rect_img(im, self.rect_size)\n",
        "        im = im.transpose(2, 0, 1).astype(np.float32)\n",
        "\n",
        "        pid = '/'.join(path.split('/')[-2:]) \n",
        "        return im, pid\n",
        "\n",
        "    # 종횡비를 변경하지 않고 리사이즈 한 후 패딩을 해서 정사각 이미지로 만든다 \n",
        "    def to_rect_img(im, rect_size):\n",
        "        rs = rect_size\n",
        "        h, w, _ = im.shape\n",
        "        s = rs/max(h,w)\n",
        "        im = cv2.resize(im, (int(w*s), int(h*s)), cv2.INTER_CUBIC)\n",
        "        h, w, _ = im.shape\n",
        "        return np.pad(im, \n",
        "                    (((rs - h)//2, rs - h - (rs - h)//2), \n",
        "                    ((rs - w)//2, rs - w - (rs - w)//2),\n",
        "                    (0,0)), \n",
        "                    mode='constant', constant_values=128)\n",
        "            \n",
        "                \n",
        "\n",
        "ds = RectDataset(IMG_DIR)\n",
        "dl = DataLoader(ds, batch_size=32, num_workers=2)\n",
        "\n",
        "len(ds), len(dl)"
      ]
    },
    {
      "cell_type": "code",
      "execution_count": null,
      "metadata": {
        "id": "r45hV8ONF-sH"
      },
      "outputs": [],
      "source": [
        "for ims, labels in tqdm(dl):\n",
        "\n",
        "    ims = ims.to(device)\n",
        "    boxes_batch = fd.detect_from_batch(ims)\n",
        "\n",
        "    top_prob = lambda boxes: sorted(boxes, key=lambda e: e[4], reverse=True)[:1]\n",
        "    box_batch = [top_prob(e) for e in boxes_batch]\n",
        "\n",
        "    to_box = lambda boxes: [(e[:4].astype(np.int32), e[4])for e in boxes]\n",
        "    box_batch = [to_box(e) for e in box_batch]\n",
        "\n",
        "    for box, im, label in zip(box_batch, ims, labels):\n",
        "        if not box:\n",
        "            continue\n",
        "        (x1, y1, x2, y2), _  = box[0]\n",
        "        crop = im.cpu().numpy().transpose(1,2,0)[y1:y2, x1:x2, :].astype(np.uint8)\n",
        "        crop = RectDataset.to_rect_img(crop, 112)\n",
        "        save_path = f'{CROP_IMG_DIR}/{label}'\n",
        "        Path(save_path).parent.mkdir(parents=True, exist_ok=True)\n",
        "        imageio.imwrite(save_path, crop)"
      ]
    },
    {
      "cell_type": "code",
      "execution_count": null,
      "metadata": {
        "id": "hvzB6wcxSima"
      },
      "outputs": [],
      "source": [
        "drive.flush_and_unmount()"
      ]
    }
  ],
  "metadata": {
    "accelerator": "GPU",
    "colab": {
      "provenance": []
    },
    "kernelspec": {
      "display_name": "Python 3",
      "language": "python",
      "name": "python3"
    },
    "language_info": {
      "codemirror_mode": {
        "name": "ipython",
        "version": 3
      },
      "file_extension": ".py",
      "mimetype": "text/x-python",
      "name": "python",
      "nbconvert_exporter": "python",
      "pygments_lexer": "ipython3",
      "version": "3.7.10"
    }
  },
  "nbformat": 4,
  "nbformat_minor": 0
}