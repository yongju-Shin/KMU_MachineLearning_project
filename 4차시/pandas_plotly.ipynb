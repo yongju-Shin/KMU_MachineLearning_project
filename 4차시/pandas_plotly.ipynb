{
 "cells": [
  {
   "cell_type": "markdown",
   "metadata": {},
   "source": [
    "### 설치"
   ]
  },
  {
   "cell_type": "code",
   "execution_count": null,
   "metadata": {},
   "outputs": [],
   "source": [
    "#!pip install pandas\n",
    "#!pip install plotly\n",
    "#!pip install matplotlib\n",
    "#!pip install librosa\n",
    "# F5 (chrome reload)"
   ]
  },
  {
   "cell_type": "markdown",
   "metadata": {},
   "source": [
    "### 데이터 다운로드 주소\n",
    "* <https://aihub.or.kr/opendata/keti-data/recognition-laguage/KETI-02-002>\n"
   ]
  },
  {
   "cell_type": "markdown",
   "metadata": {},
   "source": [
    "------\n",
    "### 데이터 프레임 생성 및 살펴 보기"
   ]
  },
  {
   "cell_type": "code",
   "execution_count": null,
   "metadata": {},
   "outputs": [],
   "source": [
    "# 파일 읽어서 생성하기\n",
    "import pandas as pd\n",
    "df = pd.read_csv('./data/5차년도_2차.csv', encoding='cp949')\n",
    "df"
   ]
  },
  {
   "cell_type": "code",
   "execution_count": null,
   "metadata": {},
   "outputs": [],
   "source": [
    "df = df[['wav_id', '상황', '나이', '성별', '발화문']]\n",
    "df\n"
   ]
  },
  {
   "cell_type": "code",
   "execution_count": null,
   "metadata": {},
   "outputs": [],
   "source": [
    "df = df.copy()"
   ]
  },
  {
   "cell_type": "code",
   "execution_count": null,
   "metadata": {},
   "outputs": [],
   "source": [
    "# 몇 개만 보기\n",
    "display(df.head(5))\n",
    "print('\\n')\n",
    "display(df.tail(5))\n",
    "print('\\n')\n",
    "display(df.sample(n=5))\n",
    "print('\\n')"
   ]
  },
  {
   "cell_type": "markdown",
   "metadata": {},
   "source": [
    "------\n",
    "### 서브 테이블(DataFrame or Series) 추출"
   ]
  },
  {
   "cell_type": "code",
   "execution_count": null,
   "metadata": {},
   "outputs": [],
   "source": [
    "# 한 컬럼만 분리하기.  Series\n",
    "s = df['상황']\n",
    "print(type(s))\n",
    "s"
   ]
  },
  {
   "cell_type": "code",
   "execution_count": null,
   "metadata": {},
   "outputs": [],
   "source": [
    "#   컬럼들 분리하기. \n",
    "i = ['상황']#, '1번 감정', '성별']\n",
    "t = df[i] # t = df[['상황']]\n",
    "print(type(t))\n",
    "t"
   ]
  },
  {
   "cell_type": "code",
   "execution_count": null,
   "metadata": {},
   "outputs": [],
   "source": [
    "# numpy 형태로 값 얻기\n",
    "print(s.shape)\n",
    "s.values"
   ]
  },
  {
   "cell_type": "code",
   "execution_count": null,
   "metadata": {},
   "outputs": [],
   "source": [
    "# numpy 형태로 값 얻기\n",
    "print(t.shape)\n",
    "t.values"
   ]
  },
  {
   "cell_type": "code",
   "execution_count": null,
   "metadata": {},
   "outputs": [],
   "source": [
    "# 특정 컬럼의 값 기준으로 테이블로 분리\n",
    "g = df.groupby('상황')\n",
    "for situation, df_i in g:\n",
    "    print(f'상황:{situation}, ({len(df_i)}개)')\n",
    "    display(df_i.tail(5))\n",
    "    print('\\n', '=='*50, '\\n')"
   ]
  },
  {
   "cell_type": "code",
   "execution_count": null,
   "metadata": {},
   "outputs": [],
   "source": [
    "# 유니크한 값만 추출하기 :\n",
    "s = df['상황']\n",
    "s.unique() #set(s.values)"
   ]
  },
  {
   "cell_type": "code",
   "execution_count": null,
   "metadata": {},
   "outputs": [],
   "source": [
    "s.nunique() # len(set(s.values))"
   ]
  },
  {
   "cell_type": "code",
   "execution_count": null,
   "metadata": {},
   "outputs": [],
   "source": [
    "# 특정 조건을 만족하는 row 만 골라내기. query 버전\n",
    "situations = ['sadness', 'angry']\n",
    "df.query('상황 in @situations') # df.query('상황 == \"sadness\" or 상황 == \"angry\"')"
   ]
  },
  {
   "cell_type": "code",
   "execution_count": null,
   "metadata": {},
   "outputs": [],
   "source": [
    "# 특정 조건을 만족하는 row 만 골라내기. flag index 버전 \n",
    "df[df['상황'] =='angry'] # df.query('상황 == \"angry\"')"
   ]
  },
  {
   "cell_type": "code",
   "execution_count": null,
   "metadata": {},
   "outputs": [],
   "source": [
    "df['상황'] =='angry'"
   ]
  },
  {
   "cell_type": "code",
   "execution_count": null,
   "metadata": {},
   "outputs": [],
   "source": [
    "type(df.상황 == 'angry')"
   ]
  },
  {
   "cell_type": "code",
   "execution_count": null,
   "metadata": {},
   "outputs": [],
   "source": [
    "s = df.상황 == 'angry'\n",
    "df[s]"
   ]
  },
  {
   "cell_type": "markdown",
   "metadata": {},
   "source": [
    "------\n",
    "### 그래프"
   ]
  },
  {
   "cell_type": "code",
   "execution_count": null,
   "metadata": {},
   "outputs": [],
   "source": [
    "df['나이']"
   ]
  },
  {
   "cell_type": "code",
   "execution_count": null,
   "metadata": {},
   "outputs": [],
   "source": [
    "df['나이'].hist()"
   ]
  },
  {
   "cell_type": "code",
   "execution_count": null,
   "metadata": {},
   "outputs": [],
   "source": [
    "%config InlineBackend.figure_format = 'retina'\n",
    "df['나이'].hist(bins=60)"
   ]
  },
  {
   "cell_type": "code",
   "execution_count": null,
   "metadata": {},
   "outputs": [],
   "source": [
    "df['글자수'] = df['발화문'].map(len)\n",
    "df"
   ]
  },
  {
   "cell_type": "code",
   "execution_count": null,
   "metadata": {},
   "outputs": [],
   "source": [
    "df['글자수'].hist(bins=100)"
   ]
  },
  {
   "cell_type": "code",
   "execution_count": null,
   "metadata": {},
   "outputs": [],
   "source": [
    "vc = df['상황'].value_counts()\n",
    "vc"
   ]
  },
  {
   "cell_type": "code",
   "execution_count": null,
   "metadata": {},
   "outputs": [],
   "source": [
    "import plotly.graph_objects as go\n",
    "go.Figure(go.Bar(x=vc.index, y=vc.values))"
   ]
  },
  {
   "cell_type": "code",
   "execution_count": null,
   "metadata": {},
   "outputs": [],
   "source": [
    "import plotly.express as px\n",
    "px.pie(values=vc.values, names=vc.index)"
   ]
  },
  {
   "cell_type": "markdown",
   "metadata": {},
   "source": [
    "------\n",
    "### 데이터 검수"
   ]
  },
  {
   "cell_type": "code",
   "execution_count": null,
   "metadata": {},
   "outputs": [],
   "source": [
    "from glob import glob\n",
    "wavs = glob('./data/wavs/*.wav')\n",
    "wavs"
   ]
  },
  {
   "cell_type": "code",
   "execution_count": null,
   "metadata": {},
   "outputs": [],
   "source": [
    "from pathlib import Path\n",
    "wavs  = [Path(e).stem for e in wavs]\n",
    "wavs"
   ]
  },
  {
   "cell_type": "code",
   "execution_count": null,
   "metadata": {},
   "outputs": [],
   "source": [
    "df_wav = pd.DataFrame(wavs, columns=['wav_id'])\n",
    "df_wav"
   ]
  },
  {
   "cell_type": "code",
   "execution_count": null,
   "metadata": {},
   "outputs": [],
   "source": [
    "df_wav = pd.merge(df, df_wav, how='inner', on='wav_id')\n",
    "df_wav"
   ]
  },
  {
   "cell_type": "code",
   "execution_count": null,
   "metadata": {},
   "outputs": [],
   "source": [
    "to_path = lambda e: f'./data/wavs/{e}.wav'\n",
    "df_wav['path'] = df_wav['wav_id'].map(to_path)\n",
    "df_wav"
   ]
  },
  {
   "cell_type": "code",
   "execution_count": null,
   "metadata": {},
   "outputs": [],
   "source": [
    "import IPython.display as ipd\n",
    "\n",
    "for e in df_wav.values:\n",
    "    print(e)\n",
    "    display(ipd.Audio(e[-1], autoplay=True))\n",
    "    c = input()\n",
    "    if c in ['q', 'Q', 'ㅂ']:\n",
    "        break\n",
    "    ipd.clear_output()"
   ]
  },
  {
   "cell_type": "code",
   "execution_count": null,
   "metadata": {},
   "outputs": [],
   "source": [
    "import librosa\n",
    "for i, e in df_wav.iterrows():\n",
    "    wav, sr = librosa.load(e['path'])\n",
    "    display(ipd.Audio(e['path'], autoplay=True))\n",
    "    display(ipd.Audio(wav, rate=sr))\n",
    "    if 'q' == input():\n",
    "        break\n",
    "    ipd.clear_output()"
   ]
  },
  {
   "cell_type": "code",
   "execution_count": null,
   "metadata": {},
   "outputs": [],
   "source": [
    "print(sr, 13*sr, 14*sr)\n",
    "print(wav.shape, wav.min(), wav.max(), wav.mean(), wav.std())\n",
    "print(wav)"
   ]
  },
  {
   "cell_type": "code",
   "execution_count": null,
   "metadata": {},
   "outputs": [],
   "source": [
    "ipd.Audio(wav, rate=sr, normalize=False)"
   ]
  },
  {
   "cell_type": "code",
   "execution_count": null,
   "metadata": {},
   "outputs": [],
   "source": [
    "import numpy as np\n",
    "import matplotlib.pyplot as plt\n",
    "from librosa.display import waveshow\n",
    "\n",
    "for e in [1,10,100]:\n",
    "    wav_n = (wav * e).clip(-1, 1)\n",
    "    waveshow(wav_n)\n",
    "    plt.show()\n",
    "    display(ipd.Audio(wav_n, rate=sr, normalize=False))\n",
    "    display(ipd.HTML('<hr>'))"
   ]
  },
  {
   "cell_type": "code",
   "execution_count": null,
   "metadata": {},
   "outputs": [],
   "source": [
    "px.line(x=range(len(wav_n)), y=wav_n)"
   ]
  }
 ],
 "metadata": {
  "kernelspec": {
   "display_name": "Python 3 (ipykernel)",
   "language": "python",
   "name": "python3"
  },
  "language_info": {
   "codemirror_mode": {
    "name": "ipython",
    "version": 3
   },
   "file_extension": ".py",
   "mimetype": "text/x-python",
   "name": "python",
   "nbconvert_exporter": "python",
   "pygments_lexer": "ipython3",
   "version": "3.7.10"
  }
 },
 "nbformat": 4,
 "nbformat_minor": 4
}
