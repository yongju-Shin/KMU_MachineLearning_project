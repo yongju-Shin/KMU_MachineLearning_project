{
 "cells": [
  {
   "cell_type": "markdown",
   "id": "388343b1-826b-4d81-9093-034b9a354752",
   "metadata": {},
   "source": [
    "## 유튜브 동영상에서 음원 추출"
   ]
  },
  {
   "cell_type": "code",
   "execution_count": null,
   "id": "2e5afd4c-c470-41fb-9683-0d529bb3f536",
   "metadata": {},
   "outputs": [],
   "source": [
    "# 유튜브 다운로드 라이브러리 설치\n",
    "!pip install pytube"
   ]
  },
  {
   "cell_type": "code",
   "execution_count": null,
   "id": "a20cfef2-94ab-4b9e-9197-5f8322fc7fc7",
   "metadata": {},
   "outputs": [],
   "source": [
    "from pathlib import Path\n",
    "import os\n",
    "from pytube import YouTube\n",
    "\n",
    "link = 'https://www.youtube.com/watch?v=B_K6z3HiRAs'\n",
    "\n",
    "\n",
    "# 주어진 링크를 사용하여 Youtue 객체 생성\n",
    "y = YouTube(link)\n",
    "\n",
    "# 스트림 중 (음성이 포함된)가장 높은 해상도를 선택하여 다운로드\n",
    "mp4 = y.streams.get_highest_resolution().download()\n",
    "\n",
    "# 다운로드 파일 체크\n",
    "print(mp4)\n",
    "!ls ."
   ]
  },
  {
   "cell_type": "code",
   "execution_count": null,
   "id": "bae7f70e-e325-45e3-8dc3-b47f5a9dc78b",
   "metadata": {},
   "outputs": [],
   "source": [
    "# Jupyter Notebook 용 display 모듈 임포트\n",
    "import IPython.display as ipd"
   ]
  },
  {
   "cell_type": "code",
   "execution_count": null,
   "id": "685d5f96-5a31-4e3e-921d-43fa4f846eed",
   "metadata": {},
   "outputs": [],
   "source": [
    "# 다운로드 받은 비디오  살펴보기\n",
    "ipd.Video(Path(mp4).name, width=640)"
   ]
  },
  {
   "cell_type": "code",
   "execution_count": null,
   "id": "672e6a52-1844-4f59-804c-04318609bb0e",
   "metadata": {},
   "outputs": [],
   "source": [
    "# 동영상 편집 라이브러리 moviepy 설치 (기존 수업 자료에서 이미 설치되었을 것임)\n",
    "#!pip install moviepy"
   ]
  },
  {
   "cell_type": "code",
   "execution_count": null,
   "id": "87f57f27-3fc1-4246-b74a-f35b8c2c5108",
   "metadata": {},
   "outputs": [],
   "source": [
    "# moviepy 의 editor, audio.AudioCliop 모듈 임포트\n",
    "import moviepy.editor as mpe\n",
    "import moviepy.audio.AudioClip as mpa\n",
    "\n",
    "# 오디오 클립 읽기\n",
    "ac = mpe.AudioFileClip(mp4)\n",
    "\n",
    "# 넘파이 배열로 변환\n",
    "raw = ac.to_soundarray()\n",
    "\n",
    "# shape 출력\n",
    "print(raw.shape)\n",
    "\n",
    "# min, max, mean, std 출력\n",
    "print(f'min:{raw.min():.2f}, max:{raw.max():.2f}, mean:{raw.mean():.2f}, std:{raw.std():.2f}')\n",
    "\n",
    "# sampling rate,  음성 길이 출력\n",
    "print('fps:', ac.fps, 'seconds:', raw.shape[0]//ac.fps, ', duration:', ac.duration)\n",
    "\n",
    "# 모노 사운드로 변환\n",
    "raw_m = raw.mean(axis=1)"
   ]
  },
  {
   "cell_type": "code",
   "execution_count": null,
   "id": "3531aa7f-1be6-4c98-8a97-d044e72a76f6",
   "metadata": {},
   "outputs": [],
   "source": [
    "# 넘파이 타입의 모노 사운드 재생 \n",
    "ipd.Audio(raw_m, rate=ac.fps)"
   ]
  },
  {
   "cell_type": "markdown",
   "id": "997761c8-603b-4112-843b-6c3b7ffa31ff",
   "metadata": {},
   "source": [
    "## 복습 : 사운드 시각화"
   ]
  },
  {
   "cell_type": "code",
   "execution_count": null,
   "id": "478dcef2-de5e-4db1-82da-d5d0aed7a662",
   "metadata": {},
   "outputs": [],
   "source": [
    "# 사운드 처리 패키지 librosa 설치 (기존 수업 자료에서 설치되었을 것임)\n",
    "#!pip install librosa"
   ]
  },
  {
   "cell_type": "code",
   "execution_count": null,
   "id": "cb655746-3cdc-4ad2-80d8-d8cf3eee8c03",
   "metadata": {},
   "outputs": [],
   "source": [
    "# librosa display 모듈 임포트\n",
    "import librosa.display\n",
    "\n",
    "# 넘파이 배열을 사운드 처리 정보를 추가하여 그려 보기\n",
    "librosa.display.waveplot(raw_m, sr=ac.fps, alpha=0.5)"
   ]
  },
  {
   "cell_type": "code",
   "execution_count": null,
   "id": "d262ccd2-a493-4610-af1b-230af09f992f",
   "metadata": {},
   "outputs": [],
   "source": [
    "# 데이터 시각화 라이브러리 plotly 설치 (기존 수업 자료에서 설치되었을 것임)\n",
    "#!pip install plotly"
   ]
  },
  {
   "cell_type": "code",
   "execution_count": null,
   "id": "72bb0da5-9b4b-4ce9-9c64-a23b968a7fa5",
   "metadata": {},
   "outputs": [],
   "source": [
    "# plotly express 로 그려보기 \n",
    "import plotly.express as px\n",
    "sub = raw_m[60*ac.fps: 70*ac.fps]\n",
    "print(sub.shape)\n",
    "px.line(y=sub)"
   ]
  },
  {
   "cell_type": "code",
   "execution_count": null,
   "id": "1bbfb65d-347a-4206-8abe-a96eb572f545",
   "metadata": {},
   "outputs": [],
   "source": [
    "# resample\n",
    "sr = 22050\n",
    "sub = librosa.resample(sub, ac.fps, sr)\n",
    "print(sub.shape)\n",
    "px.line(y=sub)"
   ]
  },
  {
   "cell_type": "markdown",
   "id": "33c426b7-504b-4204-8c83-3355636a76fc",
   "metadata": {},
   "source": [
    "---\n",
    "### 소리 듣기 이해"
   ]
  },
  {
   "cell_type": "code",
   "execution_count": null,
   "id": "df7b28d8-663e-47a6-a81e-8a4f267935ef",
   "metadata": {},
   "outputs": [],
   "source": [
    "from PIL import Image\n",
    "Image.open('images/0_ear.jpg') # 그림 출처 : http://www.kmooc.kr/courses/course-v1:SNUk+SNU059.019k+2021_S2/course/"
   ]
  },
  {
   "cell_type": "markdown",
   "id": "7baef77c-e18b-4e01-830f-515c30e7cdec",
   "metadata": {},
   "source": [
    "---\n",
    "## 소리 데이터 전처리\n",
    "* 1차원 소리 데이터터를 2차원 그림 데이터로 변환"
   ]
  },
  {
   "cell_type": "code",
   "execution_count": null,
   "id": "3fadd333-31b9-431a-aac9-4c0fdf6c7dfd",
   "metadata": {},
   "outputs": [],
   "source": [
    "Image.open('images/1_spec.jpg') # 그림 출처: https://www.youtube.com/watch?v=Bk8phnnOFdg"
   ]
  },
  {
   "cell_type": "code",
   "execution_count": null,
   "id": "823d2bd8-6481-4ca4-b82b-5f51cd535557",
   "metadata": {},
   "outputs": [],
   "source": [
    "Image.open('images/2_spec.jpg') # 그림 출처: https://www.youtube.com/watch?v=Bk8phnnOFdg"
   ]
  },
  {
   "cell_type": "code",
   "execution_count": null,
   "id": "11ad5dbc-aabe-4c2d-8cc6-5aef18ff7859",
   "metadata": {},
   "outputs": [],
   "source": [
    "#Short-Time Fourier Transform 추출\n",
    "FRAME_SIZE = 2048 \n",
    "HOP_SIZE = 512\n",
    "S_scale = librosa.stft(sub, n_fft=FRAME_SIZE, hop_length=HOP_SIZE)\n",
    "sub.shape, S_scale.shape, sub.shape[0]/HOP_SIZE, S_scale[0][0]"
   ]
  },
  {
   "cell_type": "code",
   "execution_count": null,
   "id": "d42af0bf-bb78-4889-8792-5a6dab54325b",
   "metadata": {},
   "outputs": [],
   "source": [
    "# 절대값 제곱 스펙트럼 계산\n",
    "import numpy as np\n",
    "S_power = np.abs(S_scale) ** 2\n",
    "print(S_power.shape)\n",
    "S_power.min(), S_power.max(), S_power.mean(), S_power.std()"
   ]
  },
  {
   "cell_type": "code",
   "execution_count": null,
   "id": "31df106e-2c4a-4be1-8934-ceed9e002997",
   "metadata": {},
   "outputs": [],
   "source": [
    "# 스펙트럼 그려보기\n",
    "import matplotlib\n",
    "import matplotlib.pyplot as plt\n",
    "# 좀 더 선명하게 그리기 위한 jupyter magic을 지정한다.\n",
    "%config InlineBackend.figure_format = 'retina'\n",
    "\n",
    "def show_spec(value, sr):\n",
    "    librosa.display.specshow(value, \n",
    "                            sr=sr, \n",
    "                            hop_length=HOP_SIZE, \n",
    "                            x_axis=\"time\", \n",
    "                            y_axis=\"log\",\n",
    "                            cmap=matplotlib.cm.jet\n",
    "                           )\n",
    "    plt.clim(-100, 100)\n",
    "    plt.colorbar(format=\"%+2.f\")\n",
    "show_spec(S_power, sr)"
   ]
  },
  {
   "cell_type": "code",
   "execution_count": null,
   "id": "72bd4fa9-650c-4ade-a6e3-033adaf786fd",
   "metadata": {},
   "outputs": [],
   "source": [
    "# 데시벨로 변환\n",
    "S_mel = 10*np.log10(S_power) \n",
    "S_mel.shape"
   ]
  },
  {
   "cell_type": "code",
   "execution_count": null,
   "id": "5981f3e7-4fc3-4696-be65-b4c67ac7fb64",
   "metadata": {},
   "outputs": [],
   "source": [
    "# 멜스펙트로그램 그려보기\n",
    "S_mel = librosa.power_to_db(S_power)\n",
    "show_spec(S_mel, sr)"
   ]
  },
  {
   "cell_type": "markdown",
   "id": "b51e384c-4518-491b-ade7-f47bcaa4aed7",
   "metadata": {},
   "source": [
    "---\n",
    "## torchaudio로 멜스펙트로그램 만들기"
   ]
  },
  {
   "cell_type": "code",
   "execution_count": null,
   "id": "632b7250-f416-4e40-b86a-666db6ef3afa",
   "metadata": {},
   "outputs": [],
   "source": [
    "# pytorch 버전 업그레이드\n",
    "!pip3 install torch==1.9.1+cpu torchvision==0.10.1+cpu torchaudio==0.9.1 -f https://download.pytorch.org/whl/torch_stable.html"
   ]
  },
  {
   "cell_type": "code",
   "execution_count": null,
   "id": "46c8c4b3-08cc-4dd4-a642-b76ae907585b",
   "metadata": {},
   "outputs": [],
   "source": [
    "# 버전 확인\n",
    "import torch\n",
    "import torchaudio\n",
    "torch.__version__, torchaudio.__version__"
   ]
  },
  {
   "cell_type": "code",
   "execution_count": null,
   "id": "22834027-9ff7-48fa-b775-995f4ca0b21a",
   "metadata": {},
   "outputs": [],
   "source": [
    "#  사전 준비:  wav 파일로 저장\n",
    "!pip install soundfile\n",
    "import soundfile as sf\n",
    "sf.write('sub.wav', raw[60*ac.fps: 70*ac.fps], ac.fps)\n",
    "ipd.Audio('sub.wav')"
   ]
  },
  {
   "cell_type": "code",
   "execution_count": null,
   "id": "7a614b54-4879-4d51-b0c6-120cfef70a3a",
   "metadata": {},
   "outputs": [],
   "source": [
    "# torchaudio를 이용하여 로드\n",
    "signal, sr = torchaudio.load('sub.wav')\n",
    "signal.shape, sr"
   ]
  },
  {
   "cell_type": "code",
   "execution_count": null,
   "id": "77c11ea2-b52c-49cb-b70f-322b635eb5dd",
   "metadata": {},
   "outputs": [],
   "source": [
    "# sampling rate 조정\n",
    "def resample(signal, cur_sr, target_sr): \n",
    "    resampler = torchaudio.transforms.Resample(cur_sr, target_sr)\n",
    "    signal = resampler(signal)\n",
    "    return signal, target_sr\n",
    "signal, sr = resample(signal, sr, sr//2)\n",
    "signal.shape, sr"
   ]
  },
  {
   "cell_type": "code",
   "execution_count": null,
   "id": "d5d2187e-e6a2-4672-9bd1-07f8f0062d1e",
   "metadata": {},
   "outputs": [],
   "source": [
    "# 스테레오를 모노로 변환\n",
    "def mix_down(signal):\n",
    "    signal = torch.mean(signal, dim=0, keepdim=True)\n",
    "    return signal\n",
    "signal = mix_down(signal)\n",
    "signal.shape"
   ]
  },
  {
   "cell_type": "code",
   "execution_count": null,
   "id": "d4c839ef-419c-47fc-8276-618325b31e65",
   "metadata": {},
   "outputs": [],
   "source": [
    "# 멜스펙트로그램 변환 함수 생성\n",
    "mel_spectrogram_trsf = torchaudio.transforms.MelSpectrogram(\n",
    "        sample_rate=sr,\n",
    "        n_fft=2048,\n",
    "        hop_length=512,\n",
    "        norm='slaney',\n",
    "        n_mels=64\n",
    "    )"
   ]
  },
  {
   "cell_type": "code",
   "execution_count": null,
   "id": "7071ae36-c9ca-4807-8060-7de9a4229047",
   "metadata": {},
   "outputs": [],
   "source": [
    "#변환\n",
    "t_mel = mel_spectrogram_trsf(signal)\n",
    "t_mel.shape"
   ]
  },
  {
   "cell_type": "code",
   "execution_count": null,
   "id": "64d13684-8bc8-411a-abf7-0c0cd78cc118",
   "metadata": {},
   "outputs": [],
   "source": [
    "# 그려보기 위해 numpy 로 변환\n",
    "n_mel = t_mel.squeeze().cpu().numpy()\n",
    "show_spec(n_mel, sr)"
   ]
  },
  {
   "cell_type": "code",
   "execution_count": null,
   "id": "52fb1e21-47c8-433d-bb25-7bf029355a67",
   "metadata": {},
   "outputs": [],
   "source": [
    "!rm -rf wav_jpgs"
   ]
  },
  {
   "cell_type": "code",
   "execution_count": null,
   "id": "e504c30a-bfb8-468b-a901-47d74caeb042",
   "metadata": {},
   "outputs": [],
   "source": [
    "# 데시벨로 변환\n",
    "n_mel = 10*np.log10(n_mel)\n",
    "show_spec(n_mel, sr)"
   ]
  }
 ],
 "metadata": {
  "kernelspec": {
   "display_name": "Python 3 (ipykernel)",
   "language": "python",
   "name": "python3"
  },
  "language_info": {
   "codemirror_mode": {
    "name": "ipython",
    "version": 3
   },
   "file_extension": ".py",
   "mimetype": "text/x-python",
   "name": "python",
   "nbconvert_exporter": "python",
   "pygments_lexer": "ipython3",
   "version": "3.7.10"
  }
 },
 "nbformat": 4,
 "nbformat_minor": 5
}
