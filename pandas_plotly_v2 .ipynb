{
 "cells": [
  {
   "cell_type": "markdown",
   "metadata": {},
   "source": [
    "### 설치\n",
    "* 아래 셀의 주석을 풀고 실행시켜 필요한 패키지를 설치해 주세요\n",
    "* 설치 후에 크롬을 리로드 해 주세요 (for plotly)"
   ]
  },
  {
   "cell_type": "code",
   "execution_count": null,
   "metadata": {},
   "outputs": [],
   "source": [
    "#!pip install plotly\n",
    "#!pip install pandas\n",
    "#!pip install matplotlib\n",
    "#!pip install librosa\n",
    "## F5 (chrome reload)"
   ]
  },
  {
   "cell_type": "markdown",
   "metadata": {},
   "source": [
    "### 데이터 다운로드 주소\n",
    "* 제공된 샘플 데이터는 아래 경로에서 다운로드 받은 데이터의 일부입니다.\n",
    "* 라이센스가 있는 데이터이므로 아래 url에 회원 가입 후 '데이터 다운로드' 버튼을 눌러서 다운 로드 승인을 받아 주세요.\n",
    "* <https://aihub.or.kr/opendata/keti-data/recognition-laguage/KETI-02-002>\n"
   ]
  },
  {
   "cell_type": "markdown",
   "metadata": {},
   "source": [
    "------\n",
    "### 데이터 프레임 생성 및 살펴 보기"
   ]
  },
  {
   "cell_type": "code",
   "execution_count": null,
   "metadata": {},
   "outputs": [],
   "source": [
    "# 파일 읽어서 생성하기\n",
    "# 한글 인코딩 방식을 알려 주기 위해 encoding='cp949'옵션 지정.\n",
    "import pandas as pd\n",
    "df = pd.read_csv('./data/5차년도_2차.csv', encoding='cp949')\n",
    "df"
   ]
  },
  {
   "cell_type": "code",
   "execution_count": null,
   "metadata": {},
   "outputs": [],
   "source": [
    "# 컬럼이 많아서 보기에 불편하므로 5개 컬럼만 발췌하기\n",
    "df = df[['wav_id', '상황', '나이', '성별', '발화문']]\n",
    "df\n"
   ]
  },
  {
   "cell_type": "code",
   "execution_count": null,
   "metadata": {},
   "outputs": [],
   "source": [
    "# 복사본 만들기. view 가 아니라 새로운 객체가 생성됨\n",
    "df = df.copy()\n",
    "df\n"
   ]
  },
  {
   "cell_type": "code",
   "execution_count": null,
   "metadata": {},
   "outputs": [],
   "source": [
    "# 몇 개의 row만 샘플링 \n",
    "\n",
    "# 맨 위의 5개 추려서 보여주기 \n",
    "display(df.head(5))\n",
    "print('\\n')\n",
    "\n",
    "# 맨 아래의 5개 추려서 보여주기 \n",
    "display(df.tail(5))\n",
    "print('\\n')\n",
    "\n",
    "# 무작위로 5개 샘플링해서 보여주기 \n",
    "display(df.sample(n=5))\n",
    "print('\\n')"
   ]
  },
  {
   "cell_type": "markdown",
   "metadata": {},
   "source": [
    "------\n",
    "### 서브 테이블(DataFrame or Series) 추출"
   ]
  },
  {
   "cell_type": "code",
   "execution_count": null,
   "metadata": {
    "tags": []
   },
   "outputs": [],
   "source": [
    "# 한 컬럼만 분리하기.  Series 타입\n",
    "s = df['상황']\n",
    "print(type(s))\n",
    "s"
   ]
  },
  {
   "cell_type": "code",
   "execution_count": null,
   "metadata": {},
   "outputs": [],
   "source": [
    "#   컬럼들 분리하기. DataFrame 타입 \n",
    "i = ['상황']\n",
    "t = df[i]  \n",
    "print(type(t))\n",
    "t"
   ]
  },
  {
   "cell_type": "code",
   "execution_count": null,
   "metadata": {},
   "outputs": [],
   "source": [
    "# 위 셀의 내용은 아래와 동일\n",
    "t = df[['상황']]\n",
    "print(type(t))\n",
    "t"
   ]
  },
  {
   "cell_type": "code",
   "execution_count": null,
   "metadata": {},
   "outputs": [],
   "source": [
    "# 위에서 인덱싱 방법에 따라 결과가 eries vs DataFrame 인 것은\n",
    "# numpy 의 인덱싱과 유사함.\n",
    "import numpy as np\n",
    "n = np.array([10, 11, 12, 13])\n",
    "display(n[2])\n",
    "display(n[[2]])\n",
    "\n",
    "for i, e in enumerate(n[[2]]):\n",
    "    print(f'i:{i}, e:{e}')\n",
    "\n",
    "# 아래 코드는 위와 다르게 에러 발생\n",
    "#for i, e in enumerate(n[2]):\n",
    "#    print(f'i:{i}, e:{e}')"
   ]
  },
  {
   "cell_type": "code",
   "execution_count": null,
   "metadata": {},
   "outputs": [],
   "source": [
    "# numpy 형태로 값 얻기\n",
    "# Series라 rank 가 1인 배열이다\n",
    "print(s.shape)\n",
    "print(s.values.shape)\n",
    "s.values"
   ]
  },
  {
   "cell_type": "code",
   "execution_count": null,
   "metadata": {},
   "outputs": [],
   "source": [
    "# numpy 형태로 값 얻기\n",
    "# DataFrame 이라 rank가 2인 배열이다\n",
    "print(t.shape)\n",
    "t.values"
   ]
  },
  {
   "cell_type": "code",
   "execution_count": null,
   "metadata": {},
   "outputs": [],
   "source": [
    "# 특정 컬럼의 값 기준으로 테이블로 분리\n",
    "g = df.groupby('상황')\n",
    "for situation, df_i in g:\n",
    "    print(situation, len(df_i))\n",
    "    display(df_i.tail(3))\n",
    "    print('\\n\\n', '=' * 80, '\\n'*3)\n",
    "    "
   ]
  },
  {
   "cell_type": "code",
   "execution_count": null,
   "metadata": {},
   "outputs": [],
   "source": [
    "# 순회 가능한 groupby 객체가 만들어진다\n",
    "# 원소는 (해당 컬럼의 특정 값, 해당 컬럼이 특정 값인 row로 구성된 DataFrame) 형태의 tuple 이다.\n",
    "g = df.groupby('상황')\n",
    "g"
   ]
  },
  {
   "cell_type": "code",
   "execution_count": null,
   "metadata": {},
   "outputs": [],
   "source": [
    "# 유니크한 값만 추출하기 :\n",
    "s = df['상황']\n",
    "s.unique() "
   ]
  },
  {
   "cell_type": "code",
   "execution_count": null,
   "metadata": {},
   "outputs": [],
   "source": [
    "# 위의 코드는 아래와 동일한 값을 갖는다 \n",
    "s = df['상황']\n",
    "np.array(set(s))"
   ]
  },
  {
   "cell_type": "code",
   "execution_count": null,
   "metadata": {},
   "outputs": [],
   "source": [
    "# 유니크한 값들의 갯수\n",
    "s.nunique() "
   ]
  },
  {
   "cell_type": "code",
   "execution_count": null,
   "metadata": {},
   "outputs": [],
   "source": [
    "# 위의 코드는 아래와 동일한 값을 갖는다 \n",
    "len(set(s.values))"
   ]
  },
  {
   "cell_type": "code",
   "execution_count": null,
   "metadata": {},
   "outputs": [],
   "source": [
    "# 특정 조건을 만족하는 row 만 골라내기. query 버전\n",
    "situations = ['sadness', 'angry']\n",
    "df.query('상황 in @situations') "
   ]
  },
  {
   "cell_type": "code",
   "execution_count": null,
   "metadata": {},
   "outputs": [],
   "source": [
    "# 위의 코드는 아래와 동일한 값을 갖는다 \n",
    "df.query('상황 in [\"sadness\", \"angry\"]') "
   ]
  },
  {
   "cell_type": "code",
   "execution_count": null,
   "metadata": {},
   "outputs": [],
   "source": [
    "# 위의 코드는 아래와 동일한 값을 갖는다 \n",
    "df.query('상황 == \"sadness\" or  상황 == \"angry\"') "
   ]
  },
  {
   "cell_type": "code",
   "execution_count": null,
   "metadata": {},
   "outputs": [],
   "source": [
    "# 타입이 숫자인 컬럼에 대해서도 가능하다\n",
    "df.query('나이 in [23, 48]')"
   ]
  },
  {
   "cell_type": "code",
   "execution_count": null,
   "metadata": {},
   "outputs": [],
   "source": [
    "# 특정 조건을 만족하는 row 만 골라내기. flag index 버전 \n",
    "df[\n",
    "    df['상황'] =='angry'\n",
    "] # df.query('상황 == \"angry\"')"
   ]
  },
  {
   "cell_type": "code",
   "execution_count": null,
   "metadata": {},
   "outputs": [],
   "source": [
    "# 위 코드는 flag로 인덱싱한 예시이다\n",
    "# flag 생성로직은 아래와 같다\n",
    "# numpy 의 broadcast 와 유사하게 모든 원소에 대해 동일한 연산을 적용\n",
    "df['상황'] =='angry'"
   ]
  },
  {
   "cell_type": "code",
   "execution_count": null,
   "metadata": {},
   "outputs": [],
   "source": [
    "# 생성된 플래그의 타입은 Series 이다\n",
    "type(df.상황 == 'angry')"
   ]
  },
  {
   "cell_type": "code",
   "execution_count": null,
   "metadata": {},
   "outputs": [],
   "source": [
    "# 플래그로 인덱싱한 위의 코드를 다시 써 보면 다른과 같다\n",
    "s = df.상황 == 'angry'\n",
    "df[s]"
   ]
  },
  {
   "cell_type": "markdown",
   "metadata": {},
   "source": [
    "------\n",
    "### 그래프"
   ]
  },
  {
   "cell_type": "code",
   "execution_count": null,
   "metadata": {},
   "outputs": [],
   "source": [
    "# 나이 컬럼만 추출한다\n",
    "df['나이']"
   ]
  },
  {
   "cell_type": "code",
   "execution_count": null,
   "metadata": {},
   "outputs": [],
   "source": [
    "# 히스토그래을 그려본다\n",
    "df['나이'].hist()"
   ]
  },
  {
   "cell_type": "code",
   "execution_count": null,
   "metadata": {},
   "outputs": [],
   "source": [
    "# 좀 더 선명하게 그리기 위한 jupyter magic을 지정한다.\n",
    "%config InlineBackend.figure_format = 'retina'\n",
    "\n",
    "# 위의 그래프는 default 로 구간을 10으로 지정해서 그린 것이다\n",
    "# 명시적으로 구간을 지정하기 위해서는 bins 패러미터 값을 지정한다\n",
    "df['나이'].hist(bins=60)"
   ]
  },
  {
   "cell_type": "code",
   "execution_count": null,
   "metadata": {},
   "outputs": [],
   "source": [
    "# 글자수라는 컬럼과 남여 컬럼을 DataFrame 에 추가한다\n",
    "# 기존 컬럼 값에 특정 함수를 적용하여 값을 채운다\n",
    "df['글자수'] = df['발화문'].map(len)\n",
    "df['남여'] = df['성별'].map({'male':'남자', 'female':'여자'})\n",
    "df"
   ]
  },
  {
   "cell_type": "code",
   "execution_count": null,
   "metadata": {},
   "outputs": [],
   "source": [
    "# Series 에 map 을 적용하는 예시\n",
    "df['글자수'].map(lambda e: '김' if 30 < e else '짧음')"
   ]
  },
  {
   "cell_type": "code",
   "execution_count": null,
   "metadata": {},
   "outputs": [],
   "source": [
    "# Series 데이터를 히스토그램으로 그려보기\n",
    "df['글자수'].hist(bins=100)"
   ]
  },
  {
   "cell_type": "code",
   "execution_count": null,
   "metadata": {},
   "outputs": [],
   "source": [
    "# 그래프가 아니라 Series로 값을 얻기 \n",
    "vc = df['상황'].value_counts()\n",
    "vc"
   ]
  },
  {
   "cell_type": "code",
   "execution_count": null,
   "metadata": {},
   "outputs": [],
   "source": [
    "# interaction 이 가능한 plotly 라이브러리 사용해 보기\n",
    "import plotly.graph_objects as go\n",
    "\n",
    "# 막대 그래프 생성\n",
    "b = go.Bar(x=vc.index, y=vc.values)\n",
    "\n",
    "# 생성된 막대 그래프를 그리기\n",
    "go.Figure(b)"
   ]
  },
  {
   "cell_type": "code",
   "execution_count": null,
   "metadata": {},
   "outputs": [],
   "source": [
    "# 그래프를 더 간단히 그릴 수 있는 express 사용해 보기\n",
    "import plotly.express as px\n",
    "px.pie(values=vc.values, names=vc.index)"
   ]
  },
  {
   "cell_type": "markdown",
   "metadata": {},
   "source": [
    "------\n",
    "### 데이터 검수"
   ]
  },
  {
   "cell_type": "code",
   "execution_count": null,
   "metadata": {},
   "outputs": [],
   "source": [
    "from glob import glob\n",
    "\n",
    "# ./data/wavs 폴더 아래의 확장자가 wav인 파일 목록을 읽어 온다\n",
    "wavs = glob('./data/wavs/*.wav')\n",
    "wavs"
   ]
  },
  {
   "cell_type": "code",
   "execution_count": null,
   "metadata": {},
   "outputs": [],
   "source": [
    "# 확장자를 제외한 파일명을 stem 이라고 한다\n",
    "# csv 라벨 파일의 wav_id 값으로 변환하기 위해 \n",
    "# pathlib.Path 를 사용한다\n",
    "from pathlib import Path\n",
    "wavs  = [Path(e).stem for e in wavs]\n",
    "wavs"
   ]
  },
  {
   "cell_type": "code",
   "execution_count": null,
   "metadata": {},
   "outputs": [],
   "source": [
    "# 데이터 프레임 형태로 변환한다\n",
    "df_wav = pd.DataFrame(wavs, columns=['wav_id'])\n",
    "df_wav"
   ]
  },
  {
   "cell_type": "code",
   "execution_count": null,
   "metadata": {},
   "outputs": [],
   "source": [
    "# 폴더에서 읽어온 값과 csv 라벨의 값을 병합한다\n",
    "# 두 테이블에 동시에 존재하는 wav_id 만 병합에 사용하기 위해 how 패러미터에 inner값을 지정한다\n",
    "df_wav = pd.merge(df, df_wav, how='inner', on='wav_id')\n",
    "df_wav"
   ]
  },
  {
   "cell_type": "code",
   "execution_count": null,
   "metadata": {},
   "outputs": [],
   "source": [
    "# wav_id 값을 다시 경로로 바꾸어 'path'컬럼에 저장한다\n",
    "to_path = lambda e: f'./data/wavs/{e}.wav'\n",
    "df_wav['path'] = df_wav['wav_id'].map(to_path)\n",
    "df_wav"
   ]
  },
  {
   "cell_type": "code",
   "execution_count": null,
   "metadata": {},
   "outputs": [],
   "source": [
    "# 첫 번째 사운드를 직접 들어본다\n",
    "import IPython.display as ipd\n",
    "\n",
    "path = df_wav.values[0][-1] \n",
    "print(path)\n",
    "ipd.Audio(path)"
   ]
  },
  {
   "cell_type": "code",
   "execution_count": null,
   "metadata": {},
   "outputs": [],
   "source": [
    "# 자동 플레이가 되도록 autoplay 값을 지정한다\n",
    "ipd.Audio(path, autoplay=True)"
   ]
  },
  {
   "cell_type": "code",
   "execution_count": null,
   "metadata": {},
   "outputs": [],
   "source": [
    "# 모든 사운드를 출력해 본다\n",
    "for e in df_wav.values:\n",
    "    path = e[-1]\n",
    "    print(path)\n",
    "    display(ipd.Audio(path))"
   ]
  },
  {
   "cell_type": "code",
   "execution_count": null,
   "metadata": {},
   "outputs": [],
   "source": [
    "# input 박스\n",
    "# 사용자의 입력을 받는다.\n",
    "# 실행 후 입력창에 'aaa'를 입력해 본다\n",
    "c = input()\n",
    "c"
   ]
  },
  {
   "cell_type": "code",
   "execution_count": null,
   "metadata": {},
   "outputs": [],
   "source": [
    "# clear_output\n",
    "# output 셀을 지운다.\n",
    "print('지워질 문장1')\n",
    "print('지워질 문장2')\n",
    "print('지워질 문장2')\n",
    "input()\n",
    "ipd.clear_output()\n",
    "print('남겨질 문장')"
   ]
  },
  {
   "cell_type": "code",
   "execution_count": null,
   "metadata": {},
   "outputs": [],
   "source": [
    "# 사운드를 직접 들어본다\n",
    "# 'q'를 누르면 듣기를 멈춘다\n",
    "import IPython.display as ipd\n",
    "\n",
    "for e in df_wav.values:\n",
    "    print(e)\n",
    "    display(ipd.Audio(e[-1], autoplay=True))\n",
    "    c = input()\n",
    "    if c in ['q', 'Q', 'ㅂ']:\n",
    "        break\n",
    "    ipd.clear_output()"
   ]
  },
  {
   "cell_type": "code",
   "execution_count": null,
   "metadata": {},
   "outputs": [],
   "source": [
    "# librosa 라이브러를  이용해 \n",
    "# 사운드 파일의 내용을 numpy 형태로 읽어온다.\n",
    "# numpy 값 뿐만 아니라 샘플링 비율(값 몇 개가 1초동안의 내용을 나타내는지를 알려줌)도 얻어낸다\n",
    "# 파일의 값을 그대로 출력하는 오디오 위젯과\n",
    "# librosa 로 읽어온 값을 출력하는 오디오 위젯을 동시에 출력한다\n",
    "# librosa로 읽어온 값을 ipd.Audio가 출력할 때는 normalize 옵션값이 True 이다\n",
    "# 듣다 보면 작은 사운드에 대해서도 normalize 를 수행한 경우 크게 들리는 것을 확인할 수 있다\n",
    "import librosa\n",
    "for i, e in df_wav.iterrows():\n",
    "    wav, sr = librosa.load(e['path'])\n",
    "    display(ipd.Audio(e['path'], autoplay=True))\n",
    "    display(ipd.Audio(wav, rate=sr))\n",
    "    if 'q' == input():\n",
    "        break\n",
    "    ipd.clear_output()"
   ]
  },
  {
   "cell_type": "code",
   "execution_count": null,
   "metadata": {},
   "outputs": [],
   "source": [
    "# 위의 셀을 실행하여 듣다가 소리가 지나치게 작은 파일에서 'q' 버튼을 눌러 루프를 빠져 나온다\n",
    "# 샘플링 rate, 데이터 길이, 값의 분포 등을 조사해 본다.\n",
    "print(sr, 13*sr, 14*sr)\n",
    "print(wav.shape, wav.min(), wav.max(), wav.mean(), wav.std())\n",
    "print(wav)"
   ]
  },
  {
   "cell_type": "code",
   "execution_count": null,
   "metadata": {},
   "outputs": [],
   "source": [
    "# normalize 값을 명시적으로 false 로 주면 값이 매우 작은 것을 알 수 있다\n",
    "ipd.Audio(wav, rate=sr, normalize=False)"
   ]
  },
  {
   "cell_type": "code",
   "execution_count": null,
   "metadata": {},
   "outputs": [],
   "source": [
    "# 작은 값을 원본, 10배 증폭, 100배 증복 시킨다.\n",
    "# 값을 그려보고 실제로 들어본다\n",
    "# normalize 가 False 인 경우 -1, 1 사이로 절삭(clipping)을 해 줘야 된다.\n",
    "import numpy as np\n",
    "import matplotlib.pyplot as plt\n",
    "from librosa.display import waveshow\n",
    "\n",
    "for e in [1,10,100]:\n",
    "    wav_n = (wav * e).clip(-1, 1)\n",
    "    waveshow(wav_n)\n",
    "    plt.show()\n",
    "    display(ipd.Audio(wav_n, rate=sr, normalize=False))\n",
    "    display(ipd.HTML('<hr>'))"
   ]
  },
  {
   "cell_type": "code",
   "execution_count": null,
   "metadata": {},
   "outputs": [],
   "source": [
    "# plotly express 로 그려본다.\n",
    "# 모든 값을 다 그리기 때문에 시간이 좀 걸린다\n",
    "# 마우스 드래그로 영역을 지정하여 확대해서 보기가 가능하다.\n",
    "px.line(x=range(len(wav_n)), y=wav_n)"
   ]
  }
 ],
 "metadata": {
  "kernelspec": {
   "display_name": "Python 3 (ipykernel)",
   "language": "python",
   "name": "python3"
  },
  "language_info": {
   "codemirror_mode": {
    "name": "ipython",
    "version": 3
   },
   "file_extension": ".py",
   "mimetype": "text/x-python",
   "name": "python",
   "nbconvert_exporter": "python",
   "pygments_lexer": "ipython3",
   "version": "3.7.10"
  }
 },
 "nbformat": 4,
 "nbformat_minor": 4
}
