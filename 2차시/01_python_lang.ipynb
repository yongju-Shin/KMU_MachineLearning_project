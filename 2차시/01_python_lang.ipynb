{
 "cells": [
  {
   "cell_type": "markdown",
   "metadata": {},
   "source": [
    "출처1. http://aikorea.org/cs231n/python-numpy-tutorial/  \n",
    "\n",
    "# Python Tutorial\n",
    "\n",
    "이 튜토리얼의 초안은 Justin Johnson 에 의해 작성되었다.\n",
    "\n",
    "파이썬은 그 자체만으로도 훌륭한 범용 프로그래밍 언어지만,  \n",
    "몇몇 라이브러리(numpy, scipy, matplotlib)의 도움으로 계산과학 분야에서 강력한 개발 환경을 갖추게 되었다. \n",
    "\n",
    "파이썬을 경험하지 못했을지라도 이 수업을 통해\n",
    "‘프로그래밍 언어로서의 파이썬’을 빠르게 훑을 수 있다.\n",
    "\n",
    "\n",
    "#### 목차:\n",
    "\n",
    "* 파이썬\n",
    "  * 기본 자료형\n",
    "  * 컨테이너\n",
    "    * 리스트\n",
    "    * 딕셔너리\n",
    "    * 집합\n",
    "    * 튜플\n",
    "  * 함수\n",
    "  * 클래스"
   ]
  },
  {
   "cell_type": "markdown",
   "metadata": {},
   "source": [
    "---\n",
    "## 파이썬\n",
    " 고급 프로그래밍 언어(사람이 이해하기 쉽게 작성된 언어)이며,  \n",
    " 다중패러다임을 지원하는 동적 프로그래밍 언어다. \n",
    " \n",
    " 짧지만 가독성 높은 코드 몇 줄로 수준 높은 아이디어들을 표현할 수 있기에  \n",
    " 파이썬 코드는 거의 수도코드처럼 보인다.  \n",
    " \n",
    " quicksort 알고리즘을 파이썬으로 구현한 예시:"
   ]
  },
  {
   "cell_type": "code",
   "execution_count": null,
   "metadata": {},
   "outputs": [],
   "source": [
    "def qsort(arr):\n",
    "    if len(arr) <= 1:\n",
    "        return arr\n",
    "    pivot  = arr[len(arr) // 2]\n",
    "    left   = [x for x in arr if x < pivot]\n",
    "    middle = [x for x in arr if x == pivot]\n",
    "    right  = [x for x in arr if x > pivot]\n",
    "    return qsort(left) + middle + qsort(right)\n",
    "\n",
    "qsort([3,6,8,10,1,2,1])"
   ]
  },
  {
   "cell_type": "markdown",
   "metadata": {},
   "source": [
    "---\n",
    "### 파이썬 버전\n",
    "현재 파이썬에는 두 가지 버전이 있다. \n",
    "\n",
    "파이썬 2.7 그리고 파이썬 3.8 이다.  \n",
    "\n",
    "혼란스럽게도, 파이썬3은 기존 파이썬2와 호환되지 않게 변경된 부분이 있다.  \n",
    "그러므로 파이썬 2.x로 쓰여진 코드는 3.x 환경에서 동작하지 않고 그 반대도 마찬가지다. \n",
    "\n",
    "우리 수업에선 파이썬 3.7 이상을 사용한다.\n",
    "\n",
    "커맨드라인에 아래의 명령어를 입력해서 현재 설치된 파이썬 버전을 확인할 수 있다.  \n",
    "\n",
    "  python --version."
   ]
  },
  {
   "cell_type": "code",
   "execution_count": null,
   "metadata": {},
   "outputs": [],
   "source": [
    "!python --version"
   ]
  },
  {
   "cell_type": "markdown",
   "metadata": {},
   "source": [
    "---\n",
    "## `기본 자료형`\n",
    "다른 프로그래밍 언어들처럼, 파이썬에는 \n",
    "정수, 실수, 불리언, 문자열 같은 기본 자료형이 있다. \n",
    "\n",
    "파이썬 기본 자료형은 다른 프로그래밍 언어와 유사하다.\n",
    "\n",
    "### `숫자`: \n",
    "\n",
    "  다른 언어와 마찬가지로   \n",
    "  파이썬의 정수형(Integers)과 실수형(floats) 데이터 타입 역시 동일한 역할을 한다 "
   ]
  },
  {
   "cell_type": "code",
   "execution_count": null,
   "metadata": {},
   "outputs": [],
   "source": [
    "x = 3\n",
    "print(type(x)) "
   ]
  },
  {
   "cell_type": "code",
   "execution_count": null,
   "metadata": {},
   "outputs": [],
   "source": [
    "print(x)"
   ]
  },
  {
   "cell_type": "code",
   "execution_count": null,
   "metadata": {},
   "outputs": [],
   "source": [
    "print(x + 1)   # 덧셈"
   ]
  },
  {
   "cell_type": "code",
   "execution_count": null,
   "metadata": {},
   "outputs": [],
   "source": [
    "print(x - 1)   # 뺄셈"
   ]
  },
  {
   "cell_type": "code",
   "execution_count": null,
   "metadata": {},
   "outputs": [],
   "source": [
    "print(x * 2)   # 곱셈"
   ]
  },
  {
   "cell_type": "code",
   "execution_count": null,
   "metadata": {},
   "outputs": [],
   "source": [
    "print(x ** 2)  # 제곱 "
   ]
  },
  {
   "cell_type": "code",
   "execution_count": null,
   "metadata": {},
   "outputs": [],
   "source": [
    "x += 1\n",
    "print(x) "
   ]
  },
  {
   "cell_type": "code",
   "execution_count": null,
   "metadata": {},
   "outputs": [],
   "source": [
    "x *= 2\n",
    "print(x) "
   ]
  },
  {
   "cell_type": "code",
   "execution_count": null,
   "metadata": {},
   "outputs": [],
   "source": [
    "y = 2.5\n",
    "print(type(y))"
   ]
  },
  {
   "cell_type": "code",
   "execution_count": null,
   "metadata": {},
   "outputs": [],
   "source": [
    "print(y, y + 1, y * 2, y ** 2)"
   ]
  },
  {
   "cell_type": "code",
   "execution_count": null,
   "metadata": {},
   "outputs": [],
   "source": [
    "int(1.4), int(1.6)"
   ]
  },
  {
   "cell_type": "code",
   "execution_count": null,
   "metadata": {},
   "outputs": [],
   "source": [
    "round(1.4), round(1.6)"
   ]
  },
  {
   "cell_type": "markdown",
   "metadata": {},
   "source": [
    "※ 다른 언어들과는 달리, 파이썬에는 증감 단항연산자 x++, x-- 가 없다."
   ]
  },
  {
   "cell_type": "markdown",
   "metadata": {},
   "source": [
    "---\n",
    "### `불리언(Booleans)`\n",
    "\n",
    "파이썬에는 논리 자료형의 모든 연산자가 구현되어 있다.  \n",
    "기호(&, |) 뿐만 아니라 영어(and, or)로도 구현되어 있다"
   ]
  },
  {
   "cell_type": "code",
   "execution_count": null,
   "metadata": {},
   "outputs": [],
   "source": [
    "t = True\n",
    "f = False\n",
    "type(t), type(f)"
   ]
  },
  {
   "cell_type": "code",
   "execution_count": null,
   "metadata": {},
   "outputs": [],
   "source": [
    "t and f # 논리 AND "
   ]
  },
  {
   "cell_type": "code",
   "execution_count": null,
   "metadata": {},
   "outputs": [],
   "source": [
    "t or f  # 논리 OR "
   ]
  },
  {
   "cell_type": "code",
   "execution_count": null,
   "metadata": {},
   "outputs": [],
   "source": [
    "not t   # 논리 NOT "
   ]
  },
  {
   "cell_type": "code",
   "execution_count": null,
   "metadata": {},
   "outputs": [],
   "source": [
    "t != f  # 논리 XOR "
   ]
  },
  {
   "cell_type": "markdown",
   "metadata": {},
   "source": [
    "---\n",
    "### `문자열`\n",
    "\n",
    "파이썬은 문자열과 연관된 다양한 기능을 지원한다.\n"
   ]
  },
  {
   "cell_type": "code",
   "execution_count": null,
   "metadata": {},
   "outputs": [],
   "source": [
    "h = 'hello'   # String 문자열을 표현할 땐 따옴표나\n",
    "w = \"world\"   # 쌍따옴표가 사용된다; 어떤 걸 써도 상관없다."
   ]
  },
  {
   "cell_type": "code",
   "execution_count": null,
   "metadata": {},
   "outputs": [],
   "source": [
    "print('hello \"world\"!!')\n",
    "print(\"hello 'world'!!\")"
   ]
  },
  {
   "cell_type": "code",
   "execution_count": null,
   "metadata": {},
   "outputs": [],
   "source": [
    "print('hello', \"hello\")\n",
    "'hello', \"hello\""
   ]
  },
  {
   "cell_type": "code",
   "execution_count": null,
   "metadata": {},
   "outputs": [],
   "source": [
    "h + ' ' + w   # 문자열 연결"
   ]
  },
  {
   "cell_type": "code",
   "execution_count": null,
   "metadata": {},
   "outputs": [],
   "source": [
    "f'h:{h}, w:{w}, len(h):{len(h):05}' # 문자열 서식 지정"
   ]
  },
  {
   "cell_type": "markdown",
   "metadata": {},
   "source": [
    "문자열 객체에는 유용한 메소드들이 많다  \n",
    "https://docs.python.org/3/tutorial/datastructures.html#more-on-lists"
   ]
  },
  {
   "cell_type": "code",
   "execution_count": null,
   "metadata": {},
   "outputs": [],
   "source": [
    "s = \"hello\"\n",
    "s.upper()       # 모든 문자를 대문자로 바꿈; 출력 \"HELLO\""
   ]
  },
  {
   "cell_type": "code",
   "execution_count": null,
   "metadata": {},
   "outputs": [],
   "source": [
    "'HELLO'.lower()"
   ]
  },
  {
   "cell_type": "code",
   "execution_count": null,
   "metadata": {},
   "outputs": [],
   "source": [
    "s.rjust(7)      # 문자열 오른쪽 정렬, 빈공간은 여백으로 채움; 출력 \"  hello\""
   ]
  },
  {
   "cell_type": "code",
   "execution_count": null,
   "metadata": {},
   "outputs": [],
   "source": [
    "s.center(7)     # 문자열 가운데 정렬, 빈공간은 여백으로 채움; 출력 \" hello \""
   ]
  },
  {
   "cell_type": "code",
   "execution_count": null,
   "metadata": {},
   "outputs": [],
   "source": [
    "s.replace('l', '(ell)')  # 첫 번째 인자로 온 문자열을 두 번째 인자 문자열로 바꿈;\n",
    "                         # 출력 \"he(ell)(ell)o\""
   ]
  },
  {
   "cell_type": "code",
   "execution_count": null,
   "metadata": {},
   "outputs": [],
   "source": [
    "'  world \\n \\t '.strip()  # 문자열 앞뒤 공백 제거; 출력 \"world\""
   ]
  },
  {
   "cell_type": "code",
   "execution_count": null,
   "metadata": {},
   "outputs": [],
   "source": [
    "'  world \\n \\t '.rstrip()"
   ]
  },
  {
   "cell_type": "code",
   "execution_count": null,
   "metadata": {},
   "outputs": [],
   "source": [
    "'  world \\n \\t '.lstrip()"
   ]
  },
  {
   "cell_type": "code",
   "execution_count": null,
   "metadata": {},
   "outputs": [],
   "source": [
    "      '  world \\n  \\t hellow'"
   ]
  },
  {
   "cell_type": "code",
   "execution_count": null,
   "metadata": {},
   "outputs": [],
   "source": [
    "print('  world \\n  \\t hellow')"
   ]
  },
  {
   "cell_type": "code",
   "execution_count": null,
   "metadata": {},
   "outputs": [],
   "source": [
    "list('abc')"
   ]
  },
  {
   "cell_type": "code",
   "execution_count": null,
   "metadata": {},
   "outputs": [],
   "source": [
    "'abcdabcdab'.split('bc')"
   ]
  },
  {
   "cell_type": "code",
   "execution_count": null,
   "metadata": {},
   "outputs": [],
   "source": [
    "'abcdabcdab'.split('ab')"
   ]
  },
  {
   "cell_type": "code",
   "execution_count": null,
   "metadata": {},
   "outputs": [],
   "source": [
    "'ab'.join(['', 'cd', 'cd', ''])"
   ]
  },
  {
   "cell_type": "code",
   "execution_count": null,
   "metadata": {},
   "outputs": [],
   "source": [
    "'python'.find('on'), 'python'.find('off')"
   ]
  },
  {
   "cell_type": "code",
   "execution_count": null,
   "metadata": {},
   "outputs": [],
   "source": [
    "'on' in 'python',  0 <= 'python'.find('on')"
   ]
  },
  {
   "cell_type": "code",
   "execution_count": null,
   "metadata": {},
   "outputs": [],
   "source": [
    "'python'.startswith('py'), 'python'.find('py') == 0"
   ]
  },
  {
   "cell_type": "code",
   "execution_count": null,
   "metadata": {},
   "outputs": [],
   "source": [
    "'python'.endswith('on'), 'python'.find('on') == len('python') - len('on')"
   ]
  },
  {
   "cell_type": "code",
   "execution_count": null,
   "metadata": {},
   "outputs": [],
   "source": [
    "'42'.zfill(5), f'{int(\"42\"):05}'"
   ]
  },
  {
   "cell_type": "markdown",
   "metadata": {},
   "source": [
    "---\n",
    "## `컨테이너`\n",
    "\n",
    "파이썬은 다음과 같은 컨테이너 타입이 구현되어 있다:\n",
    "* 리스트 \n",
    "* 딕셔너리 \n",
    "* 집합 \n",
    "* 튜플"
   ]
  },
  {
   "cell_type": "markdown",
   "metadata": {},
   "source": [
    "---\n",
    "### `리스트`\n",
    "\n",
    "리스트는 파이썬에서 배열 역할을 한다  \n",
    "그렇지만 배열과 달리 크기 변경이 가능하고   \n",
    "서로 다른 자료형일지라도 하나의 리스트에 저장될 수 있다\n",
    "\n",
    "https://docs.python.org/3/tutorial/datastructures.html#more-on-lists"
   ]
  },
  {
   "cell_type": "code",
   "execution_count": null,
   "metadata": {},
   "outputs": [],
   "source": [
    "xs = ['A', 'B', 'C']   # 리스트 생성\n",
    "xs"
   ]
  },
  {
   "cell_type": "code",
   "execution_count": null,
   "metadata": {},
   "outputs": [],
   "source": [
    "a, _, c = xs\n",
    "a, c"
   ]
  },
  {
   "cell_type": "code",
   "execution_count": null,
   "metadata": {},
   "outputs": [],
   "source": [
    "xs[2]"
   ]
  },
  {
   "cell_type": "code",
   "execution_count": null,
   "metadata": {},
   "outputs": [],
   "source": [
    "xs[-2]     # 인덱스가 음수일 경우 리스트의 끝에서부터 세어짐 "
   ]
  },
  {
   "cell_type": "code",
   "execution_count": null,
   "metadata": {},
   "outputs": [],
   "source": [
    "xs[2] = 40    # 자료형이 다른 요소들을 저장할 수 있다\n",
    "xs"
   ]
  },
  {
   "cell_type": "code",
   "execution_count": null,
   "metadata": {},
   "outputs": [],
   "source": [
    "xs.append('bar') # 리스트의 끝에 새 요소 추가\n",
    "xs"
   ]
  },
  {
   "cell_type": "code",
   "execution_count": null,
   "metadata": {},
   "outputs": [],
   "source": [
    "x = xs.pop()     # 리스트의 마지막 요소 삭제하고 반환\n",
    "x, xs"
   ]
  },
  {
   "cell_type": "code",
   "execution_count": null,
   "metadata": {},
   "outputs": [],
   "source": [
    "xs, xs.index(40), xs.index('B')"
   ]
  },
  {
   "cell_type": "code",
   "execution_count": null,
   "metadata": {},
   "outputs": [],
   "source": [
    "del xs[1]\n",
    "xs"
   ]
  },
  {
   "cell_type": "code",
   "execution_count": null,
   "metadata": {},
   "outputs": [],
   "source": [
    "xs.remove(40)\n",
    "xs"
   ]
  },
  {
   "cell_type": "markdown",
   "metadata": {},
   "source": [
    "---\n",
    "* `슬라이싱`\n",
    "\n",
    " 리스트의 요소로 한 번에 접근하는 것 이외에도,  \n",
    " 리스트의 일부분에만 접근하는 간결한 문법을 제공한다; \n",
    " \n",
    " 이를 `슬라이싱`이라고 부른다 "
   ]
  },
  {
   "cell_type": "code",
   "execution_count": null,
   "metadata": {},
   "outputs": [],
   "source": [
    "nums = range(6) # range는 파이썬에 구현되어 있는 함수이며 정수들로 구성된 리스트를 만든다\n",
    "nums = list(nums)\n",
    "nums"
   ]
  },
  {
   "cell_type": "code",
   "execution_count": null,
   "metadata": {},
   "outputs": [],
   "source": [
    "nums[2:4]     # 인덱스 2에서 4(제외)까지 슬라이싱; 출력 \"[2, 3]\""
   ]
  },
  {
   "cell_type": "code",
   "execution_count": null,
   "metadata": {},
   "outputs": [],
   "source": [
    "nums[1::2]   # stride 2; 출력 \"[1, 3, 5]\""
   ]
  },
  {
   "cell_type": "code",
   "execution_count": null,
   "metadata": {},
   "outputs": [],
   "source": [
    "nums[2:]     # 인덱스 2에서 끝까지 슬라이싱; 출력 \"[2, 3, 4, 6]\""
   ]
  },
  {
   "cell_type": "code",
   "execution_count": null,
   "metadata": {},
   "outputs": [],
   "source": [
    "nums[:2]     # 처음부터 인덱스 2(제외)까지 슬라이싱; 출력 \"[0, 1]\""
   ]
  },
  {
   "cell_type": "code",
   "execution_count": null,
   "metadata": {},
   "outputs": [],
   "source": [
    "nums[:]      # 전체 리스트 슬라이싱; 출력 \"[0, 1, 2, 3, 4, 6]\""
   ]
  },
  {
   "cell_type": "code",
   "execution_count": null,
   "metadata": {},
   "outputs": [],
   "source": [
    "nums[:-1]    # 슬라이싱 인덱스는 음수도 가능; 출력 [\"0, 1, 2, 3, 4]\""
   ]
  },
  {
   "cell_type": "code",
   "execution_count": null,
   "metadata": {},
   "outputs": [],
   "source": [
    "nums[2:4] = ['AB', 'CD'] # 슬라이스된 리스트에 새로운 리스트 할당\n",
    "nums               # 출력 \"[0, 1, 'AB', 'CD', 4, 5]\""
   ]
  },
  {
   "cell_type": "code",
   "execution_count": null,
   "metadata": {},
   "outputs": [],
   "source": [
    "sub = nums[2:4]\n",
    "sub"
   ]
  },
  {
   "cell_type": "code",
   "execution_count": null,
   "metadata": {},
   "outputs": [],
   "source": [
    "sub2 = nums[2:4]\n",
    "print(sub2)\n",
    "print(sub2 == sub) \n",
    "print(sub is sub2)"
   ]
  },
  {
   "cell_type": "markdown",
   "metadata": {},
   "source": [
    "---\n",
    "* `순회`  \n",
    "\n",
    "  리스트의 요소들을 반복해서 조회할 수 있다"
   ]
  },
  {
   "cell_type": "code",
   "execution_count": null,
   "metadata": {},
   "outputs": [],
   "source": [
    "animals = ['cat', 'dog', 'monkey']\n",
    "    \n",
    "for e in animals:\n",
    "    print(e)"
   ]
  },
  {
   "cell_type": "markdown",
   "metadata": {},
   "source": [
    "리스트 각 요소의 인덱스에 접근하고 싶다면, ‘enumerate’ 함수를 사용하라"
   ]
  },
  {
   "cell_type": "code",
   "execution_count": null,
   "metadata": {},
   "outputs": [],
   "source": [
    "for i, e in enumerate(animals):\n",
    "    print(f'{i + 1}: {e}')"
   ]
  },
  {
   "cell_type": "markdown",
   "metadata": {},
   "source": [
    "---\n",
    "* `리스트 조건제시법 list comprehensions`\n"
   ]
  },
  {
   "cell_type": "code",
   "execution_count": null,
   "metadata": {},
   "outputs": [],
   "source": [
    "nums = [0, 1, 2, 3, 4, 5]\n",
    "squares = []\n",
    "for e in nums:\n",
    "    squares.append(e**2)\n",
    "squares"
   ]
  },
  {
   "cell_type": "code",
   "execution_count": null,
   "metadata": {},
   "outputs": [],
   "source": [
    "[e**2 for e in nums]"
   ]
  },
  {
   "cell_type": "code",
   "execution_count": null,
   "metadata": {},
   "outputs": [],
   "source": [
    "[e**2 for e in nums if e%2]"
   ]
  },
  {
   "cell_type": "markdown",
   "metadata": {},
   "source": [
    "---\n",
    "* `병합 merge`"
   ]
  },
  {
   "cell_type": "code",
   "execution_count": null,
   "metadata": {},
   "outputs": [],
   "source": [
    "a = [1,2,3]\n",
    "b = [4,5,6]"
   ]
  },
  {
   "cell_type": "code",
   "execution_count": null,
   "metadata": {},
   "outputs": [],
   "source": [
    "a + b"
   ]
  },
  {
   "cell_type": "code",
   "execution_count": null,
   "metadata": {},
   "outputs": [],
   "source": [
    "a.extend(b)\n",
    "a"
   ]
  },
  {
   "cell_type": "markdown",
   "metadata": {},
   "source": [
    "* `flatten`"
   ]
  },
  {
   "cell_type": "code",
   "execution_count": null,
   "metadata": {},
   "outputs": [],
   "source": [
    "es = [a, b, a]\n",
    "es"
   ]
  },
  {
   "cell_type": "code",
   "execution_count": null,
   "metadata": {},
   "outputs": [],
   "source": [
    "es[0] + es[1] + es[2]"
   ]
  },
  {
   "cell_type": "code",
   "execution_count": null,
   "metadata": {},
   "outputs": [],
   "source": [
    "sum(es, [])"
   ]
  },
  {
   "cell_type": "markdown",
   "metadata": {},
   "source": [
    "---\n",
    "### `딕셔너리 dict`\n",
    "\n",
    "자바/C++의 ‘맵’, 자바스크립트의 ‘오브젝트’와 유사하게,  \n",
    "파이썬의 ‘딕셔너리’는 (키, 값) 쌍을 저장한다. \n",
    "\n",
    "https://docs.python.org/3/library/stdtypes.html#dict"
   ]
  },
  {
   "cell_type": "code",
   "execution_count": null,
   "metadata": {},
   "outputs": [],
   "source": [
    "d = { \n",
    "    'cat': 'cute', \n",
    "    'dog': 'furry',\n",
    "}  # 새로운 딕셔너리를 만든다\n",
    "\n",
    "d"
   ]
  },
  {
   "cell_type": "code",
   "execution_count": null,
   "metadata": {},
   "outputs": [],
   "source": [
    "d['cat']"
   ]
  },
  {
   "cell_type": "code",
   "execution_count": null,
   "metadata": {},
   "outputs": [],
   "source": [
    "'dog' in d, 'cute' in d"
   ]
  },
  {
   "cell_type": "code",
   "execution_count": null,
   "metadata": {},
   "outputs": [],
   "source": [
    "d['dog'] = 'mung mung'\n",
    "d['fish'] = 'dilicious'\n",
    "d"
   ]
  },
  {
   "cell_type": "code",
   "execution_count": null,
   "metadata": {},
   "outputs": [],
   "source": [
    "del d['dog']\n",
    "d"
   ]
  },
  {
   "cell_type": "code",
   "execution_count": null,
   "metadata": {},
   "outputs": [],
   "source": [
    "# safe get\n",
    "d.get('dog', None), d.get('dog', 'N/A'), d.get('fish', None)"
   ]
  },
  {
   "cell_type": "markdown",
   "metadata": {},
   "source": [
    "---\n",
    "* `순회`"
   ]
  },
  {
   "cell_type": "code",
   "execution_count": null,
   "metadata": {},
   "outputs": [],
   "source": [
    "d = {'person': 2, 'cat': 4, 'spider': 8}\n",
    "for animal in d:\n",
    "    print(f'{animal:6} has {d[animal]} legs')"
   ]
  },
  {
   "cell_type": "code",
   "execution_count": null,
   "metadata": {},
   "outputs": [],
   "source": [
    "for animal, num_leg in d.items():\n",
    "    print(f'{animal:6} has {num_leg} legs')"
   ]
  },
  {
   "cell_type": "code",
   "execution_count": null,
   "metadata": {},
   "outputs": [],
   "source": [
    "for animal, num_leg in zip(d.keys(), d.values()):\n",
    "    print(f'{animal:6} has {num_leg} legs')"
   ]
  },
  {
   "cell_type": "code",
   "execution_count": null,
   "metadata": {},
   "outputs": [],
   "source": [
    "d.keys()"
   ]
  },
  {
   "cell_type": "code",
   "execution_count": null,
   "metadata": {},
   "outputs": [],
   "source": [
    "d.values()"
   ]
  },
  {
   "cell_type": "markdown",
   "metadata": {},
   "source": [
    "※ python 3.7 부터는 ordered dict 가 기본이다"
   ]
  },
  {
   "cell_type": "markdown",
   "metadata": {},
   "source": [
    "---\n",
    "* `딕셔너리 조건제시법 dict comprehensions`"
   ]
  },
  {
   "cell_type": "code",
   "execution_count": null,
   "metadata": {},
   "outputs": [],
   "source": [
    "nums = [0, 1, 2, 3]"
   ]
  },
  {
   "cell_type": "code",
   "execution_count": null,
   "metadata": {},
   "outputs": [],
   "source": [
    "{e:e**2 for e in nums}"
   ]
  },
  {
   "cell_type": "code",
   "execution_count": null,
   "metadata": {},
   "outputs": [],
   "source": [
    "{e:e**2 for e in nums if e%2}"
   ]
  },
  {
   "cell_type": "markdown",
   "metadata": {},
   "source": [
    "---\n",
    "### `집합`\n",
    "\n",
    "https://docs.python.org/3/library/stdtypes.html#set-types-set-frozenset\n"
   ]
  },
  {
   "cell_type": "code",
   "execution_count": null,
   "metadata": {},
   "outputs": [],
   "source": [
    "animals = {'cat', 'dog'} "
   ]
  },
  {
   "cell_type": "code",
   "execution_count": null,
   "metadata": {},
   "outputs": [],
   "source": [
    "a = set()\n",
    "b = dict()\n",
    "c = {}\n",
    "type(a), type(b), type(c)"
   ]
  },
  {
   "cell_type": "code",
   "execution_count": null,
   "metadata": {},
   "outputs": [],
   "source": [
    "len(animals)       # 집합에 포함된 요소의 수; 출력 \"2\""
   ]
  },
  {
   "cell_type": "code",
   "execution_count": null,
   "metadata": {},
   "outputs": [],
   "source": [
    "'cat' in animals   # 요소가 집합에 포함되어 있는지 확인; 출력 \"True\""
   ]
  },
  {
   "cell_type": "code",
   "execution_count": null,
   "metadata": {},
   "outputs": [],
   "source": [
    "'fish' in animals  # 출력 \"False\""
   ]
  },
  {
   "cell_type": "code",
   "execution_count": null,
   "metadata": {},
   "outputs": [],
   "source": [
    "animals.add('fish') # 요소를 집합에 추가\n",
    "'fish' in animals   # 출력 \"True\""
   ]
  },
  {
   "cell_type": "code",
   "execution_count": null,
   "metadata": {},
   "outputs": [],
   "source": [
    "animals.add('cat')       # 이미 포함되어있는 요소를 추가할 경우 아무 변화 없음\n",
    "len(animals)             # 출력 \"3\""
   ]
  },
  {
   "cell_type": "code",
   "execution_count": null,
   "metadata": {},
   "outputs": [],
   "source": [
    "animals.remove('cat')    # Remove an element from a set\n",
    "len(animals)             # 출력 \"2\""
   ]
  },
  {
   "cell_type": "code",
   "execution_count": null,
   "metadata": {},
   "outputs": [],
   "source": [
    "animals.discard('fish')\n",
    "animals.discard('fish')\n",
    "animals"
   ]
  },
  {
   "cell_type": "markdown",
   "metadata": {},
   "source": [
    "---\n",
    "* `순회`:  \n",
    "\n",
    "  집합 순회 구문은 리스트 순회 구문과 동일하다.  \n",
    "  그러나 집합은 순서가 없어서, 어떤 순서로 순회 될지 추측할 순 없다"
   ]
  },
  {
   "cell_type": "code",
   "execution_count": null,
   "metadata": {},
   "outputs": [],
   "source": [
    "animals = {'cat', 'dog', 'fish'}\n",
    "for idx, animal in enumerate(animals):\n",
    "    print(f'{idx + 1}: {animal}')"
   ]
  },
  {
   "cell_type": "markdown",
   "metadata": {},
   "source": [
    "---\n",
    "* `집합 조건제시법 Set comprehension`"
   ]
  },
  {
   "cell_type": "code",
   "execution_count": null,
   "metadata": {},
   "outputs": [],
   "source": [
    "from math import sqrt\n",
    "nums= {round(sqrt(x)) for x in range(30)}\n",
    "nums  # 출력 \"{0, 1, 2, 3, 4, 5}\""
   ]
  },
  {
   "cell_type": "markdown",
   "metadata": {},
   "source": [
    "---\n",
    "* `집합 연산`"
   ]
  },
  {
   "cell_type": "code",
   "execution_count": null,
   "metadata": {},
   "outputs": [],
   "source": [
    "a, b = list(\"hello\"), list(\"world\")\n",
    "a, b"
   ]
  },
  {
   "cell_type": "code",
   "execution_count": null,
   "metadata": {},
   "outputs": [],
   "source": [
    "a, b = set(a), set(b)\n",
    "a, b"
   ]
  },
  {
   "cell_type": "code",
   "execution_count": null,
   "metadata": {},
   "outputs": [],
   "source": [
    "a | b"
   ]
  },
  {
   "cell_type": "code",
   "execution_count": null,
   "metadata": {},
   "outputs": [],
   "source": [
    "a & b"
   ]
  },
  {
   "cell_type": "code",
   "execution_count": null,
   "metadata": {},
   "outputs": [],
   "source": [
    "a - b, b -a"
   ]
  },
  {
   "cell_type": "code",
   "execution_count": null,
   "metadata": {},
   "outputs": [],
   "source": [
    "a ^ b"
   ]
  },
  {
   "cell_type": "markdown",
   "metadata": {},
   "source": [
    "### `튜플`\n",
    "\n",
    "  튜플은 `값이 변하지 않는 리스트`이다.  \n",
    "  \n",
    "  가장 중요한 차이점은 튜플은 ‘딕셔너리의 열쇠’와 ‘집합의 요소’가 될 수 있지만,  \n",
    "  리스트는 불가능하다는 점이다\n",
    "  \n",
    "  https://docs.python.org/2/tutorial/datastructures.html#tuples-and-sequences"
   ]
  },
  {
   "cell_type": "code",
   "execution_count": null,
   "metadata": {},
   "outputs": [],
   "source": [
    "t = (5, 6, 7)    # 튜플 생성\n",
    "type(t)          # 출력 \"tuple\""
   ]
  },
  {
   "cell_type": "code",
   "execution_count": null,
   "metadata": {},
   "outputs": [],
   "source": [
    "t = 4, 5, 6       # 괄호 생략해도 됨\n",
    "s = 7,\n",
    "type(t), t, type(s), s"
   ]
  },
  {
   "cell_type": "code",
   "execution_count": null,
   "metadata": {},
   "outputs": [],
   "source": [
    "a, _, c = t \n",
    "a, c"
   ]
  },
  {
   "cell_type": "code",
   "execution_count": null,
   "metadata": {},
   "outputs": [],
   "source": [
    "_, _, c = 4, 5, 6\n",
    "c "
   ]
  },
  {
   "cell_type": "code",
   "execution_count": null,
   "metadata": {},
   "outputs": [],
   "source": [
    "(4, 5, 6, 7, 8)[2:4]"
   ]
  },
  {
   "cell_type": "code",
   "execution_count": null,
   "metadata": {},
   "outputs": [],
   "source": [
    "d = {(x, x + 1): x for x in range(10)}  # 튜플을 키로 하는 딕셔너리 생성\n",
    "t = 5,6\n",
    "print(d[t])       # 출력 \"5\"\n",
    "print(d[(1, 2)])  # 출력 \"1\""
   ]
  },
  {
   "cell_type": "markdown",
   "metadata": {},
   "source": [
    "---\n",
    "## `함수`\n",
    "\n",
    "파이썬 함수는 `def` 키워드를 통해 정의된다.\n",
    "\n",
    "https://docs.python.org/3/tutorial/controlflow.html#defining-functions"
   ]
  },
  {
   "cell_type": "code",
   "execution_count": null,
   "metadata": {},
   "outputs": [],
   "source": [
    "def sign(x):\n",
    "    if x > 0:\n",
    "        return 'positive'\n",
    "    elif x < 0:\n",
    "        return 'negative'\n",
    "    else:\n",
    "        return 'zero'"
   ]
  },
  {
   "cell_type": "code",
   "execution_count": null,
   "metadata": {},
   "outputs": [],
   "source": [
    "num = [-1, 0, 1]\n",
    "\n",
    "[sign(x) for x in num] # 출력 \"['negative', 'zero', 'positive']\""
   ]
  },
  {
   "cell_type": "markdown",
   "metadata": {},
   "source": [
    "---\n",
    "선택적으로 인자를 받도록 정의"
   ]
  },
  {
   "cell_type": "code",
   "execution_count": null,
   "metadata": {},
   "outputs": [],
   "source": [
    "def hello(name, loud=False):\n",
    "    if loud:\n",
    "        print(f'HELLO, {name.upper()}!')\n",
    "    else:\n",
    "        print(f'Hello, {name}')"
   ]
  },
  {
   "cell_type": "code",
   "execution_count": null,
   "metadata": {},
   "outputs": [],
   "source": [
    "hello('Bob')                  # 출력 \"Hello, Bob\"\n",
    "hello('Bob', True)            # 출력 \"HELLO, BOB!\"\n",
    "hello('Fred', loud=True)      # 출력 \"HELLO, FRED!\"\n",
    "hello(loud=True, name='Jhon') # 출력 \"HELLO, JHON!\""
   ]
  },
  {
   "cell_type": "markdown",
   "metadata": {},
   "source": [
    "---\n",
    "*  `인자 전달 argument forwarding`"
   ]
  },
  {
   "cell_type": "code",
   "execution_count": null,
   "metadata": {},
   "outputs": [],
   "source": [
    "def forward(fn, *args,  **kargs):\n",
    "    fn(*args, **kargs)\n",
    "    print(f'\\t\\targs:  {args}')\n",
    "    print(f'\\t\\tkargs: {kargs}')\n",
    "    print('\\n')\n",
    "\n",
    "forward(hello, 'Bob')                  # 출력 \"Hello, Bob\"\n",
    "forward(hello, 'Bob', True)            # 출력 \"HELLO, BOB\"\n",
    "forward(hello, 'Fred', loud=True)      # 출력 \"HELLO, FRED!\"\n",
    "forward(hello, loud=True, name='Jhon') # 출력 \"HELLO, JHON!\""
   ]
  },
  {
   "cell_type": "markdown",
   "metadata": {},
   "source": [
    "---\n",
    "## `클래스`\n",
    "\n",
    "파이썬에서 클래스를 정의하는 구문은 복잡하지 않다"
   ]
  },
  {
   "cell_type": "code",
   "execution_count": 4,
   "metadata": {},
   "outputs": [],
   "source": [
    "class Greeter(object):\n",
    "\n",
    "    # 생성자\n",
    "    def __init__(self, name):\n",
    "        self.name = name  # 인스턴스 변수 선언\n",
    "\n",
    "    # 인스턴스 메소드\n",
    "    def greet(self, loud=False):\n",
    "        if loud:\n",
    "            print(f'HELLO, {self.name.upper()}!')\n",
    "        else:\n",
    "            print(f'Hello, {self.name}')\n",
    "    \n",
    "    # callable 객체로 만듦\n",
    "    def __call__(self, loud=None):\n",
    "        if loud is None: \n",
    "            print(f'my name is {self.name}')\n",
    "        else:\n",
    "            self.greet(loud)\n",
    "\n",
    "g = Greeter('Fred')  # Greeter 클래스의 인스턴스 생성"
   ]
  },
  {
   "cell_type": "code",
   "execution_count": 5,
   "metadata": {},
   "outputs": [
    {
     "name": "stdout",
     "output_type": "stream",
     "text": [
      "Hello, Fred\n",
      "HELLO, FRED!\n",
      "HELLO, FRED!\n"
     ]
    }
   ],
   "source": [
    "g.greet()            # 인스턴스 메소드 호출; 출력 \"Hello, Fred\"\n",
    "g.greet(loud=True)   # 인스턴스 메소드 호출; 출력 \"HELLO, FRED!\"\n",
    "g.greet(True)        # 인스턴스 메소드 호출; 출력 \"HELLO, FRED!\""
   ]
  },
  {
   "cell_type": "code",
   "execution_count": 6,
   "metadata": {},
   "outputs": [
    {
     "name": "stdout",
     "output_type": "stream",
     "text": [
      "my name is Fred\n",
      "HELLO, FRED!\n",
      "Hello, Fred\n"
     ]
    }
   ],
   "source": [
    "g()\n",
    "g(True)\n",
    "g(False)"
   ]
  },
  {
   "cell_type": "code",
   "execution_count": 7,
   "metadata": {},
   "outputs": [
    {
     "data": {
      "text/plain": [
       "'Fred'"
      ]
     },
     "execution_count": 7,
     "metadata": {},
     "output_type": "execute_result"
    }
   ],
   "source": [
    "g.name"
   ]
  }
 ],
 "metadata": {
  "kernelspec": {
   "display_name": "Python 3 (ipykernel)",
   "language": "python",
   "name": "python3"
  },
  "language_info": {
   "codemirror_mode": {
    "name": "ipython",
    "version": 3
   },
   "file_extension": ".py",
   "mimetype": "text/x-python",
   "name": "python",
   "nbconvert_exporter": "python",
   "pygments_lexer": "ipython3",
   "version": "3.7.10"
  },
  "widgets": {
   "application/vnd.jupyter.widget-state+json": {
    "state": {},
    "version_major": 2,
    "version_minor": 0
   }
  }
 },
 "nbformat": 4,
 "nbformat_minor": 4
}
