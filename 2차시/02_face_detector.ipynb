{
 "cells": [
  {
   "cell_type": "code",
   "execution_count": null,
   "metadata": {},
   "outputs": [],
   "source": [
    "# shell 에서  sudo apt-get install ffmpeg 실행\n",
    "#!pip install opencv-python\n",
    "#!pip install pillow\n",
    "#!pip install tqdm\n",
    "#!pip install imageio\n",
    "#!pip install imageio-ffmpeg\n",
    "#!pip install moviepy\n",
    "#!pip install torch==1.9.0+cpu torchvision==0.10.0+cpu torchaudio==0.9.0 -f https://download.pytorch.org/whl/torch_stable.html\n",
    "#!pip install facenet_pytorch"
   ]
  },
  {
   "cell_type": "code",
   "execution_count": null,
   "metadata": {},
   "outputs": [],
   "source": [
    "with open('data/명단.txt') as f:\n",
    "    lines = f.read().splitlines()\n",
    "    \n",
    "import random \n",
    "random.choice(lines)"
   ]
  },
  {
   "cell_type": "code",
   "execution_count": null,
   "metadata": {},
   "outputs": [],
   "source": [
    "import IPython.display as ipd\n",
    "\n",
    "video_path = 'data/video_face_tracking.mp4'\n",
    "ipd.Video(video_path)"
   ]
  },
  {
   "cell_type": "code",
   "execution_count": null,
   "metadata": {},
   "outputs": [],
   "source": [
    "import imageio\n",
    "frames = imageio.mimread(video_path, memtest=False) \n",
    "len(frames)"
   ]
  },
  {
   "cell_type": "code",
   "execution_count": null,
   "metadata": {},
   "outputs": [],
   "source": [
    "from PIL import Image \n",
    "import random\n",
    "img = random.choice(frames)\n",
    "Image.fromarray(img)"
   ]
  },
  {
   "cell_type": "code",
   "execution_count": null,
   "metadata": {},
   "outputs": [],
   "source": [
    "from facenet_pytorch import MTCNN\n",
    "fd = MTCNN()"
   ]
  },
  {
   "cell_type": "code",
   "execution_count": null,
   "metadata": {},
   "outputs": [],
   "source": [
    "import cv2\n",
    "\n",
    "def draw_box(img):\n",
    "    r = fd.detect(img)\n",
    "    face_box, _ = r\n",
    "\n",
    "    for (x1, y1, x2, y2) in face_box:\n",
    "        cv2.rectangle(img, (int(x1), int(y1)), (int(x2), int(y2)), (255,0,0), 5)\n",
    "    return img\n",
    "    \n",
    "img = draw_box(img)\n",
    "Image.fromarray(img)"
   ]
  },
  {
   "cell_type": "code",
   "execution_count": null,
   "metadata": {},
   "outputs": [],
   "source": [
    "from tqdm.auto import tqdm\n",
    "boxed_frames = [draw_box(e) for e in tqdm(frames)]"
   ]
  },
  {
   "cell_type": "code",
   "execution_count": null,
   "metadata": {},
   "outputs": [],
   "source": [
    "import moviepy.editor as mpe\n",
    "vc = mpe.ImageSequenceClip(boxed_frames, fps=24)\n",
    "vc.write_videofile(filename='out.mp4', logger=None)\n",
    "ipd.Video('out.mp4')"
   ]
  }
 ],
 "metadata": {
  "kernelspec": {
   "display_name": "Python 3 (ipykernel)",
   "language": "python",
   "name": "python3"
  },
  "language_info": {
   "codemirror_mode": {
    "name": "ipython",
    "version": 3
   },
   "file_extension": ".py",
   "mimetype": "text/x-python",
   "name": "python",
   "nbconvert_exporter": "python",
   "pygments_lexer": "ipython3",
   "version": "3.7.10"
  }
 },
 "nbformat": 4,
 "nbformat_minor": 4
}
