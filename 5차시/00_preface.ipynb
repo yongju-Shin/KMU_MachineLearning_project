{
 "cells": [
  {
   "cell_type": "code",
   "execution_count": null,
   "metadata": {
    "tags": []
   },
   "outputs": [],
   "source": [
    "!pip install torch torchvision"
   ]
  },
  {
   "cell_type": "code",
   "execution_count": null,
   "metadata": {},
   "outputs": [],
   "source": [
    "from PIL import Image\n",
    "Image.open('data/VGG16.png').resize((500, 300))"
   ]
  },
  {
   "cell_type": "code",
   "execution_count": null,
   "metadata": {},
   "outputs": [],
   "source": [
    "Image.open('data/CNN.webp').resize((500, 800))"
   ]
  },
  {
   "cell_type": "code",
   "execution_count": null,
   "metadata": {},
   "outputs": [],
   "source": [
    "import torch, numpy as np\n",
    "import torchvision\n",
    "model = torchvision.models.resnet18(pretrained=True)\n",
    "model;"
   ]
  },
  {
   "cell_type": "code",
   "execution_count": null,
   "metadata": {},
   "outputs": [],
   "source": [
    "from PIL import Image\n",
    "from pathlib import Path\n",
    "from glob import glob\n",
    "bees = glob(f'./data/hymenoptera_data/train/bees/*.jpg')\n",
    "\n",
    "def to_tensor(path, MEAN = [0.485, 0.456, 0.406], STD = [0.229, 0.224, 0.225]):\n",
    "    img = Image.open(path)\n",
    "    img = img.resize((224,224))\n",
    "    img = np.array(img)\n",
    "    img = (img-MEAN) / STD \n",
    "    img = img.transpose(2,0,1) \n",
    "    img = torch.tensor(img/255.0).float()\n",
    "    img = torch.unsqueeze(img, 0)\n",
    "    return img\n",
    "\n",
    "def infer(model, img_path):\n",
    "    model.eval()\n",
    "    img = to_tensor(img_path)\n",
    "    with torch.no_grad():\n",
    "        out = model(img)\n",
    "    return out.argmax(), out.max(), out\n",
    "    \n",
    "\n",
    "path = bees[12] \n",
    "print(path)\n",
    "y = infer(model, path)\n",
    "y"
   ]
  },
  {
   "cell_type": "code",
   "execution_count": null,
   "metadata": {},
   "outputs": [],
   "source": [
    "from torch.utils.data import Dataset\n",
    "class MyData(Dataset):\n",
    "    def __init__(self, base_path):\n",
    "        self.bees = glob(f'{Path(base_path)}/bees/*.jpg')\n",
    "        self.ants = glob(f'{Path(base_path)}/ants/*.jpg')\n",
    "    \n",
    "    def __len__(self):\n",
    "        return len(self.bees)  + len(self.ants)\n",
    "    \n",
    "    def __getitem__(self, idx):\n",
    "        if idx < len(self)//2: \n",
    "            return to_tensor(self.bees[idx//2])[0], 0\n",
    "        else:\n",
    "            return to_tensor(self.ants[idx//2])[0], 1\n",
    "        \n",
    "\n",
    "md = MyData('./data/hymenoptera_data/train')  \n",
    "\n",
    "len(md) # => md.__len__()\n",
    "img, label = md[17] # => md.__getitem__(17)\n",
    "label, img.shape"
   ]
  },
  {
   "cell_type": "code",
   "execution_count": null,
   "metadata": {},
   "outputs": [],
   "source": [
    "class MD():\n",
    "    def __getitem__(self, idx):\n",
    "        #print(idx)\n",
    "        return 'a', torch.tensor([3,2,1]) \n",
    "    def __len__(self):\n",
    "        return 120\n",
    "    \n",
    "from tqdm.auto import tqdm\n",
    "from torch.utils.data import DataLoader\n",
    "\n",
    "md = MD() \n",
    "mdl = DataLoader(md, batch_size=10)\n",
    "\n",
    "for imgs, labels in tqdm(mdl):\n",
    "    print('------------')\n",
    "    print('images:', imgs)\n",
    "    print('labels:', labels, labels.shape)"
   ]
  },
  {
   "cell_type": "code",
   "execution_count": null,
   "metadata": {},
   "outputs": [],
   "source": [
    "def div_n(a, n):\n",
    "    return a/n\n",
    "\n",
    "def Div(n):\n",
    "    def _div(a):\n",
    "        return a/n\n",
    "    return _div\n",
    "\n",
    "f =  [Div(5), Div(6), Div(7)]\n",
    "\n",
    "x = 100\n",
    "x = f[0](x)\n",
    "x = f[1](x)\n",
    "x = f[2](x)\n"
   ]
  },
  {
   "cell_type": "code",
   "execution_count": null,
   "metadata": {},
   "outputs": [],
   "source": [
    "es = {e: len(e) for e in ['train', 'val']}\n",
    "es"
   ]
  },
  {
   "cell_type": "code",
   "execution_count": null,
   "metadata": {},
   "outputs": [],
   "source": [
    "es['train']"
   ]
  }
 ],
 "metadata": {
  "kernelspec": {
   "display_name": "Python 3 (ipykernel)",
   "language": "python",
   "name": "python3"
  },
  "language_info": {
   "codemirror_mode": {
    "name": "ipython",
    "version": 3
   },
   "file_extension": ".py",
   "mimetype": "text/x-python",
   "name": "python",
   "nbconvert_exporter": "python",
   "pygments_lexer": "ipython3",
   "version": "3.7.10"
  }
 },
 "nbformat": 4,
 "nbformat_minor": 4
}
