{
 "cells": [
  {
   "cell_type": "markdown",
   "metadata": {},
   "source": [
    "* 원본출처\n",
    "  * https://pytorch.org/tutorials/beginner/transfer_learning_tutorial.html\n",
    "  * https://tutorials.pytorch.kr/beginner/transfer_learning_tutorial.html"
   ]
  },
  {
   "cell_type": "code",
   "execution_count": null,
   "metadata": {},
   "outputs": [],
   "source": [
    "# 여유가 되면 아래 URL의 코드 분석하세요.\n",
    "# https://github.com/pytorch/vision/blob/master/torchvision/datasets/folder.py"
   ]
  },
  {
   "cell_type": "code",
   "execution_count": null,
   "metadata": {},
   "outputs": [],
   "source": [
    "# 최초 실행시에는 주석을 풀어서 필요한 패키지를 설치한다 \n",
    "#!pip install ipyplot\n",
    "#!pip install torch torchvision\n",
    "#!pip install pillow\n",
    "#!pip install matplotlib\n",
    "#!pip install opencv_python"
   ]
  },
  {
   "cell_type": "code",
   "execution_count": null,
   "metadata": {
    "collapsed": false,
    "jupyter": {
     "outputs_hidden": false
    }
   },
   "outputs": [],
   "source": [
    "# 좀 더 선명하게 그리기 위한 jupyter magic을 지정한다.\n",
    "%config InlineBackend.figure_format = 'retina'"
   ]
  },
  {
   "cell_type": "markdown",
   "metadata": {},
   "source": [
    "\n",
    "컴퓨터 비전(Vision)을 위한 전이학습(Transfer Learning)\n",
    "=======================================================\n",
    "**Author**: `Sasank Chilamkurthy <https://chsasank.github.io>`_\n",
    "  **번역**: `박정환 <http://github.com/9bow>`_\n",
    "\n",
    "이 튜토리얼에서는 전이학습(Transfer Learning)을 이용하여 이미지 분류를 위한\n",
    "합성곱 신경망을 어떻게 학습시키는지 배워보겠습니다. 전이학습에 대해서는\n",
    "`CS231n 노트 <http://cs231n.github.io/transfer-learning/>`__ 에서 더 많은 내용을\n",
    "읽어보실 수 있습니다.\n",
    "\n",
    "위 노트를 인용해보면,\n",
    "\n",
    "    실제로 충분한 크기의 데이터셋을 갖추기는 상대적으로 드물기 때문에,\n",
    "    (무작위 초기화를 통해) 맨 처음부터 합성곱 신경망(Convolutional\n",
    "    Network) 전체를 학습하는 사람은 매우 적습니다. 대신, 매우 큰 데이터셋(예.\n",
    "    100가지 분류에 대해 120만개의 이미지가 포함된 ImageNet)에서 합성곱\n",
    "    신경망(ConvNet)을 미리 학습한 후, 이 합성곱 신경망을 관심있는 작업\n",
    "    을 위한 초기 설정 또는 고정된 특징 추출기(fixed feature extractor)로 사용합니다.\n",
    "\n",
    "이러한 전이학습 시나리오의 주요한 2가지는 다음과 같습니다:\n",
    "\n",
    "-  **합성곱 신경망의 미세조정(finetuning)**: 무작위 초기화 대신, 신경망을\n",
    "   ImageNet 1000 데이터셋 등으로 미리 학습한 신경망으로 초기화합니다. 학습의 나머지\n",
    "   과정들은 평상시와 같습니다.\n",
    "-  **고정된 특징 추출기로써의 합성곱 신경망**: 여기서는 마지막에 완전히 연결\n",
    "   된 계층을 제외한 모든 신경망의 가중치를 고정합니다. 이 마지막의 완전히 연결된\n",
    "   계층은 새로운 무작위의 가중치를 갖는 계층으로 대체되어 이 계층만 학습합니다.\n",
    "\n",
    "\n"
   ]
  },
  {
   "cell_type": "code",
   "execution_count": null,
   "metadata": {
    "collapsed": false,
    "jupyter": {
     "outputs_hidden": false
    }
   },
   "outputs": [],
   "source": [
    "# License: BSD\n",
    "# Author: Sasank Chilamkurthy\n",
    "\n",
    "from __future__ import print_function, division\n",
    "\n",
    "import torch\n",
    "import torch.nn as nn\n",
    "import torch.optim as optim\n",
    "from torch.optim import lr_scheduler\n",
    "import numpy as np\n",
    "import torchvision\n",
    "from torchvision import datasets, models, transforms\n",
    "import matplotlib.pyplot as plt\n",
    "import time\n",
    "import os\n",
    "import copy\n",
    "import ipyplot\n",
    "import cv2\n",
    "from PIL import Image"
   ]
  },
  {
   "cell_type": "markdown",
   "metadata": {},
   "source": [
    "데이터 불러오기\n",
    "---------------\n",
    "\n",
    "데이터를 불러오기 위해 torchvision과 torch.utils.data 패키지를 사용하겠습니다.\n",
    "\n",
    "여기서 풀고자 하는 문제는 **개미** 와 **벌** 을 분류하는 모델을 학습하는 것입니다.\n",
    "개미와 벌 각각의 학습용 이미지는 대략 120장 정도 있고, 75개의 검증용 이미지가\n",
    "있습니다. 일반적으로 맨 처음부터 학습을 한다면 이는 일반화하기에는 아주 작은\n",
    "데이터셋입니다. 하지만 우리는 전이학습을 할 것이므로, 일반화를 제법 잘 할 수 있을\n",
    "것입니다.\n",
    "\n",
    "이 데이터셋은 ImageNet의 아주 작은 일부입니다.\n",
    "\n",
    ".. Note ::\n",
    "   https://download.pytorch.org/tutorial/hymenoptera_data.zip\n",
    "   에서 다운로드 받은 데이터를 ./data 폴더에 풀어 놨다고 가정합니다"
   ]
  },
  {
   "cell_type": "code",
   "execution_count": null,
   "metadata": {
    "collapsed": false,
    "jupyter": {
     "outputs_hidden": false
    }
   },
   "outputs": [],
   "source": [
    "# 학습을 위해 데이터 증가(augmentation) 및 일반화(normalization)\n",
    "# 검증을 위한 일반화\n",
    "data_transforms = {\n",
    "    'train': transforms.Compose([\n",
    "        transforms.RandomResizedCrop(256),\n",
    "        transforms.RandomHorizontalFlip(),\n",
    "        transforms.ToTensor(),\n",
    "        transforms.Normalize([0.485, 0.456, 0.406], [0.229, 0.224, 0.225])\n",
    "    ]),\n",
    "    'val': transforms.Compose([\n",
    "        transforms.Resize(256),\n",
    "        transforms.CenterCrop(224),\n",
    "        transforms.ToTensor(),\n",
    "        transforms.Normalize([0.485, 0.456, 0.406], [0.229, 0.224, 0.225])\n",
    "    ]),\n",
    "}\n",
    "\n",
    "data_dir = 'data/hymenoptera_data'\n",
    "\n",
    "image_datasets = {x: datasets.ImageFolder(os.path.join(data_dir, x),\n",
    "                                          data_transforms[x])\n",
    "                  for x in ['train', 'val']}\n",
    "\n",
    "dataloaders = {x: torch.utils.data.DataLoader(image_datasets[x], batch_size=4,\n",
    "                                             shuffle=True, num_workers=4)\n",
    "              for x in ['train', 'val']}\n",
    "dataset_sizes = {x: len(image_datasets[x]) for x in ['train', 'val']}\n",
    "class_names = image_datasets['train'].classes\n",
    "\n",
    "device = torch.device(\"cuda:0\" if torch.cuda.is_available() else \"cpu\")"
   ]
  },
  {
   "cell_type": "markdown",
   "metadata": {},
   "source": [
    "### 일부 이미지 시각화하기\n",
    "데이터 증강(aument) 을 이해하기 위해 일부 학습용 이미지를 시각화해보겠습니다."
   ]
  },
  {
   "cell_type": "code",
   "execution_count": null,
   "metadata": {
    "collapsed": false,
    "jupyter": {
     "outputs_hidden": false
    }
   },
   "outputs": [],
   "source": [
    "def tensor_to_img(inp):\n",
    "    inp = inp.numpy().transpose((1, 2, 0))\n",
    "    mean = np.array([0.485, 0.456, 0.406])\n",
    "    std = np.array([0.229, 0.224, 0.225])\n",
    "    inp = std * inp + mean\n",
    "    inp = np.clip(inp, 0, 1) * 255\n",
    "    inp = inp.astype(np.uint8)\n",
    "    return inp\n",
    "    \n",
    "def imshow_(inp, title=None):\n",
    "    inp = tensor_to_img(inp)\n",
    "    if title is not None:\n",
    "        inp = np.pad(inp, ((40,0),(0,0), (0,0)), mode='constant', constant_values=0).copy() \n",
    "        inp = cv2.putText(inp, f'{title}', (0,30), cv2.FONT_HERSHEY_SIMPLEX, 1, (255, 255, 255), 1)  \n",
    "    inp = Image.fromarray(inp)\n",
    "    return inp\n",
    "\n",
    "def imshow(inp, title=None, show=True):\n",
    "    inp = imshow_(inp, title) \n",
    "    if show:\n",
    "        display(inp)\n",
    "    else:\n",
    "        return inp\n",
    "\n",
    "# 학습 데이터의 배치를 얻습니다.\n",
    "inputs, classes = next(iter(dataloaders['train']))\n",
    "\n",
    "# 배치로부터 격자 형태의 이미지를 만듭니다.\n",
    "out = torchvision.utils.make_grid(inputs)\n",
    "\n",
    "imshow(out, title=[class_names[x] for x in classes])\n"
   ]
  },
  {
   "cell_type": "markdown",
   "metadata": {},
   "source": [
    "모델 학습하기\n",
    "--------------\n",
    "\n",
    "이제 모델을 학습하기 위한 일반 함수를 작성해보겠습니다. 여기서는 다음 내용들을\n",
    "설명합니다:\n",
    "\n",
    "-  학습율(learning rate) 관리(scheduling)\n",
    "-  최적의 모델 구하기\n",
    "\n",
    "``scheduler`` 매개변수는 ``torch.optim.lr_scheduler`` 의 LR 스케쥴러\n",
    "객체(Object)입니다.\n",
    "\n"
   ]
  },
  {
   "cell_type": "markdown",
   "metadata": {},
   "source": [
    "라벨 및 모델 출력값 처리\n",
    "* 라벨 == ground truth == gt\n",
    "* 출력 == out == preeict  \n",
    "gt :     gt    :   out              => max, argmax(predict)  \n",
    "0  : (1, 0, 0) : (0.79, 0.20, 0.01) => 0.79, 0  \n",
    "1  : (0, 1, 0) : (0.10, 0.80, 0.10) => 0.80, 1  \n",
    "2  : (0, 0, 1) : (0.20, 0.20, 0.60) => 0.60, 2  \n"
   ]
  },
  {
   "cell_type": "code",
   "execution_count": null,
   "metadata": {
    "collapsed": false,
    "jupyter": {
     "outputs_hidden": false
    }
   },
   "outputs": [],
   "source": [
    "def train_model(model, criterion, optimizer, scheduler, num_epochs=25):\n",
    "    since = time.time()\n",
    "    best_model_wts = copy.deepcopy(model.state_dict())\n",
    "    best_acc = 0.0\n",
    "\n",
    "    for epoch in range(num_epochs):\n",
    "        print('Epoch {}/{}'.format(epoch, num_epochs - 1))\n",
    "        print('-' * 10)\n",
    "\n",
    "        # 각 에폭(epoch)은 학습 단계와 검증 단계를 갖습니다.\n",
    "        for phase in ['train', 'val']:\n",
    "            if phase == 'train':\n",
    "                model.train()  # 모델을 학습 모드로 설정\n",
    "            else:\n",
    "                model.eval()   # 모델을 평가 모드로 설정\n",
    "\n",
    "            running_loss = 0.0\n",
    "            running_corrects = 0\n",
    "\n",
    "            # 데이터를 반복해서 가져옴\n",
    "            for inputs, labels in dataloaders[phase]:\n",
    "                inputs = inputs.to(device)\n",
    "                labels = labels.to(device)\n",
    "\n",
    "\n",
    "                # 순전파\n",
    "                # 학습 시에만 연산 기록을 추적\n",
    "                with torch.set_grad_enabled(phase == 'train'):\n",
    "                    outputs = model(inputs)\n",
    "                    _, preds = torch.max(outputs, 1)\n",
    "                    loss = criterion(outputs, labels)\n",
    "\n",
    "                    # 학습 단계인 경우 역전파 + 최적화\n",
    "                    if phase == 'train':\n",
    "                        # 매개변수 경사도를 0으로 설정\n",
    "                        optimizer.zero_grad()\n",
    "                        \n",
    "                        # 경사도 구하기\n",
    "                        loss.backward()\n",
    "                        \n",
    "                        # 경사도 반영\n",
    "                        optimizer.step()\n",
    "\n",
    "                # 통계\n",
    "                running_loss += loss.item() * inputs.size(0)\n",
    "                running_corrects += torch.sum(preds == labels.data)\n",
    "                \n",
    "            # lr 스케쥴러 업데이트\n",
    "            if phase == 'train':\n",
    "                scheduler.step()\n",
    "\n",
    "            epoch_loss = running_loss / dataset_sizes[phase]\n",
    "            epoch_acc = running_corrects.double() / dataset_sizes[phase]\n",
    "\n",
    "            print('{} Loss: {:.4f} Acc: {:.4f}'.format(\n",
    "                phase, epoch_loss, epoch_acc))\n",
    "\n",
    "            # 모델을 깊은 복사(deep copy)함\n",
    "            if phase == 'val' and epoch_acc > best_acc:\n",
    "                best_acc = epoch_acc\n",
    "                best_model_wts = copy.deepcopy(model.state_dict())\n",
    "\n",
    "\n",
    "    # 중간 로그 출력\n",
    "    time_elapsed = time.time() - since\n",
    "    print('Training complete in {:.0f}m {:.0f}s'.format(\n",
    "        time_elapsed // 60, time_elapsed % 60))\n",
    "    print('Best val Acc: {:4f}'.format(best_acc))\n",
    "\n",
    "    # 가장 나은 모델 가중치를 불러옴\n",
    "    model.load_state_dict(best_model_wts)\n",
    "    return model"
   ]
  },
  {
   "cell_type": "markdown",
   "metadata": {},
   "source": [
    "### 모델 예측값 시각화하기\n",
    "\n",
    "일부 이미지에 대한 예측값을 보여주는 일반화된 함수입니다.\n",
    "\n",
    "\n"
   ]
  },
  {
   "cell_type": "code",
   "execution_count": null,
   "metadata": {
    "collapsed": false,
    "jupyter": {
     "outputs_hidden": false
    }
   },
   "outputs": [],
   "source": [
    "def visualize_model(model, num_images=10):\n",
    "    was_training = model.training\n",
    "    model.eval()\n",
    "\n",
    "    imgs = []\n",
    "    \n",
    "    with torch.no_grad():\n",
    "        for i, (inputs, labels) in enumerate(dataloaders['val']):\n",
    "            inputs = inputs.to(device)\n",
    "            labels = labels.to(device)\n",
    "\n",
    "            outputs = model(inputs)\n",
    "            _, preds = torch.max(outputs, 1)\n",
    "\n",
    "            for inp, label, pred in zip(inputs, labels, preds):\n",
    "                label = class_names[label]\n",
    "                pred = class_names[pred]\n",
    "                img  = imshow(inp.cpu(), f'{label}, {pred}', show=False)\n",
    "                imgs.append(img)\n",
    "            if num_images <= len(imgs):\n",
    "                break\n",
    "    ipyplot.plot_images(imgs[:num_images])"
   ]
  },
  {
   "cell_type": "markdown",
   "metadata": {},
   "source": [
    "합성곱 신경망 미세조정(finetuning)\n",
    "----------------------------------\n",
    "\n",
    "미리 학습한 모델을 불러온 후 마지막의 완전히 연결된 계층을 초기화합니다.\n",
    "\n",
    "\n"
   ]
  },
  {
   "cell_type": "code",
   "execution_count": null,
   "metadata": {
    "collapsed": false,
    "jupyter": {
     "outputs_hidden": false
    }
   },
   "outputs": [],
   "source": [
    "model_ft = models.resnet18(pretrained=True)\n",
    "num_ftrs = model_ft.fc.in_features\n",
    "# 여기서 각 출력 샘플의 크기는 2로 설정합니다.\n",
    "# 또는, nn.Linear(num_ftrs, len (class_names))로 일반화할 수 있습니다.\n",
    "model_ft.fc = nn.Linear(num_ftrs, 2)\n",
    "\n",
    "model_ft = model_ft.to(device)"
   ]
  },
  {
   "cell_type": "code",
   "execution_count": null,
   "metadata": {},
   "outputs": [],
   "source": [
    "visualize_model(model_ft)"
   ]
  },
  {
   "cell_type": "code",
   "execution_count": null,
   "metadata": {
    "collapsed": false,
    "jupyter": {
     "outputs_hidden": false
    }
   },
   "outputs": [],
   "source": [
    "criterion = nn.CrossEntropyLoss()\n",
    "\n",
    "# 모든 매개변수들이 최적화되었는지 관찰\n",
    "optimizer_ft = optim.SGD(model_ft.parameters(), lr=0.001, momentum=0.9)\n",
    "\n",
    "# 7 에폭마다 0.1씩 학습율 감소\n",
    "exp_lr_scheduler = lr_scheduler.StepLR(optimizer_ft, step_size=7, gamma=0.1)"
   ]
  },
  {
   "cell_type": "markdown",
   "metadata": {},
   "source": [
    "### 학습 및 평가하기\n",
    "\n",
    "CPU에서는 15-25분 가량, GPU에서는 1분 이내의 시간이 걸립니다."
   ]
  },
  {
   "cell_type": "code",
   "execution_count": null,
   "metadata": {
    "collapsed": false,
    "jupyter": {
     "outputs_hidden": false
    }
   },
   "outputs": [],
   "source": [
    "model_ft = train_model(model_ft, criterion, optimizer_ft, exp_lr_scheduler,\n",
    "                       num_epochs=25)"
   ]
  },
  {
   "cell_type": "code",
   "execution_count": null,
   "metadata": {
    "collapsed": false,
    "jupyter": {
     "outputs_hidden": false
    }
   },
   "outputs": [],
   "source": [
    "visualize_model(model_ft)"
   ]
  }
 ],
 "metadata": {
  "kernelspec": {
   "display_name": "Python 3 (ipykernel)",
   "language": "python",
   "name": "python3"
  },
  "language_info": {
   "codemirror_mode": {
    "name": "ipython",
    "version": 3
   },
   "file_extension": ".py",
   "mimetype": "text/x-python",
   "name": "python",
   "nbconvert_exporter": "python",
   "pygments_lexer": "ipython3",
   "version": "3.7.10"
  }
 },
 "nbformat": 4,
 "nbformat_minor": 4
}
