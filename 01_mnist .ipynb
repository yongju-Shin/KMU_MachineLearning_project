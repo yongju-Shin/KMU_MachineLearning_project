{
  "nbformat": 4,
  "nbformat_minor": 0,
  "metadata": {
    "colab": {
      "provenance": []
    },
    "kernelspec": {
      "name": "python3",
      "display_name": "Python 3"
    }
  },
  "cells": [
    {
      "cell_type": "code",
      "metadata": {
        "id": "BpHYTOGMmG8U"
      },
      "source": [
        "# 사용할 모듈 like include\n",
        "from tensorflow.keras.datasets import mnist   # mnist를 바로 사용\n",
        "from tensorflow.keras.models import Sequential\n",
        "from tensorflow.keras.layers import Dense, Flatten\n",
        "from tensorflow.keras.utils import to_categorical\n",
        "import matplotlib.pyplot as plt"
      ],
      "execution_count": null,
      "outputs": []
    },
    {
      "cell_type": "code",
      "metadata": {
        "id": "WHfpHxFAmlSu",
        "colab": {
          "base_uri": "https://localhost:8080/"
        },
        "outputId": "3d4aaae5-eeba-41e4-8f6a-165b26e0ed5c"
      },
      "source": [
        "# mnist 데이터 로드, 유명한 데이터들은 keras 라이브러리에서 다운로드 가능\n",
        "# 70,000장의 0,1,2,3,4,5,6,7,8,9 손글씨 (60,000 트레이닝, 10,000 테스트)\n",
        "# 28x28 크기, 784 픽셀\n",
        "# x_train:학습용 이미지,  y_train:학습용 이미지 레이블,  x_test:테스트용 이미지,  y_test:테스트용 이미지 레이블\n",
        "(x_train, y_train), (x_test, y_test) = mnist.load_data()"
      ],
      "execution_count": null,
      "outputs": [
        {
          "output_type": "stream",
          "name": "stdout",
          "text": [
            "Downloading data from https://storage.googleapis.com/tensorflow/tf-keras-datasets/mnist.npz\n",
            "11493376/11490434 [==============================] - 0s 0us/step\n",
            "11501568/11490434 [==============================] - 0s 0us/step\n"
          ]
        }
      ]
    },
    {
      "cell_type": "code",
      "metadata": {
        "id": "lTnfU16CmihS",
        "colab": {
          "base_uri": "https://localhost:8080/"
        },
        "outputId": "512b250c-4a55-495f-d25d-3f3ae440eb06"
      },
      "source": [
        "print(x_train.shape)  # (60000, 28, 28)\n",
        "print(x_test.shape)  # (10000, 28, 28)\n",
        "print(y_train.shape)  # (60000,)\n",
        "print(y_test.shape)  # (10000,)"
      ],
      "execution_count": null,
      "outputs": [
        {
          "output_type": "stream",
          "name": "stdout",
          "text": [
            "(60000, 28, 28)\n",
            "(10000, 28, 28)\n",
            "(60000,)\n",
            "(10000,)\n"
          ]
        }
      ]
    },
    {
      "cell_type": "code",
      "metadata": {
        "id": "R33vyR7OmZsK",
        "colab": {
          "base_uri": "https://localhost:8080/",
          "height": 283
        },
        "outputId": "47212b53-8501-4074-f008-bda7d47c8e3b"
      },
      "source": [
        "plt.figure()\n",
        "plt.imshow(x_train[0])\n",
        "plt.show()\n",
        "\n",
        "print(y_train[0])"
      ],
      "execution_count": null,
      "outputs": [
        {
          "output_type": "display_data",
          "data": {
            "image/png": "[encoded data removed]",
            "text/plain": [
              "<Figure size 432x288 with 1 Axes>"
            ]
          },
          "metadata": {
            "needs_background": "light"
          }
        },
        {
          "output_type": "stream",
          "name": "stdout",
          "text": [
            "5\n"
          ]
        }
      ]
    },
    {
      "cell_type": "code",
      "metadata": {
        "id": "f2bJHpsvmZ1f"
      },
      "source": [
        "# 픽셀 값(0~255) to (0~1)\n",
        "x_train = x_train / 255.0\n",
        "x_test = x_test / 255.0"
      ],
      "execution_count": null,
      "outputs": []
    },
    {
      "cell_type": "code",
      "metadata": {
        "id": "cpBYKD6ymZ5s",
        "colab": {
          "base_uri": "https://localhost:8080/"
        },
        "outputId": "a348638b-2618-475b-876f-65ce1065a4d8"
      },
      "source": [
        "num_classes = 10    # 분류할 클래스 개수\n",
        "\n",
        "# one-hot encoding : 0~9 라벨을 10차원 0,1 벡터로 표현 예) 3 --> (0, 0, 0, 1, 0, 0, 0, 0, 0, 0)\n",
        "y_train = to_categorical(y_train, num_classes)\n",
        "y_test = to_categorical(y_test, num_classes)\n",
        "\n",
        "print(y_train[0])\n",
        "\n",
        "print(y_train.shape)  # (60000, 10)\n",
        "print(y_test.shape)  # (10000, 10)"
      ],
      "execution_count": null,
      "outputs": [
        {
          "output_type": "stream",
          "name": "stdout",
          "text": [
            "[0. 0. 0. 0. 0. 1. 0. 0. 0. 0.]\n",
            "(60000, 10)\n",
            "(10000, 10)\n"
          ]
        }
      ]
    },
    {
      "cell_type": "code",
      "metadata": {
        "id": "S8KbYuqsmRJV"
      },
      "source": [
        "# 순차모델\n",
        "model = Sequential()\n",
        "model.add(Flatten(input_shape = (28, 28)))  # in : (28, 28), out 784\n",
        "model.add(Dense(128, activation='relu'))    # in : 784, out : 128\n",
        "model.add(Dense(num_classes, activation='softmax'))   # in : 128, out : 10\n",
        "\n",
        "# Dense : Fully Connected Layer\n",
        "# activation : 활성화 함수, 노드에 들어오는 값들에 대해 곧바로 다음 레이어로 전달하지 않고 주로 비선형 함수를 통과시킨 후 전달, \n",
        "# 비선형 함수를 사용하는 이유는 선형함수를 사용할 시 층을 깊게 하는 의미가 줄어들기 때문, relu, tanh, leakyrelu, softmax 등..\n",
        "# relu : 최근 가장 많이 사용되는 활성화 함수\n",
        "# softmax : 입력받은 값을 0~1사이의 값으로 모두 정규화하며 출력 값들의 총합은 항상 1이 되는 특성을 가진 활성화 함수, 분류용!"
      ],
      "execution_count": null,
      "outputs": []
    },
    {
      "cell_type": "code",
      "metadata": {
        "id": "jkgQmlnJmQDW",
        "colab": {
          "base_uri": "https://localhost:8080/"
        },
        "outputId": "f5335027-3645-4c54-bb21-d926a7cf1119"
      },
      "source": [
        "# 모델 출력\n",
        "model.summary()"
      ],
      "execution_count": null,
      "outputs": [
        {
          "output_type": "stream",
          "name": "stdout",
          "text": [
            "Model: \"sequential\"\n",
            "_________________________________________________________________\n",
            " Layer (type)                Output Shape              Param #   \n",
            "=================================================================\n",
            " flatten (Flatten)           (None, 784)               0         \n",
            "                                                                 \n",
            " dense (Dense)               (None, 128)               100480    \n",
            "                                                                 \n",
            " dense_1 (Dense)             (None, 10)                1290      \n",
            "                                                                 \n",
            "=================================================================\n",
            "Total params: 101,770\n",
            "Trainable params: 101,770\n",
            "Non-trainable params: 0\n",
            "_________________________________________________________________\n"
          ]
        }
      ]
    },
    {
      "cell_type": "code",
      "metadata": {
        "id": "jRuVeC5AmQME"
      },
      "source": [
        "# 학습 방법\n",
        "# loss : 손실함수, 일반적으로 회귀문제에서는 MSE('mean_squared_error'), 분류문제에서는 Cross Entropy Error('crossentropy')를 활용\n",
        "# optimizer : 모델 업데이트 방법, 손실함수를 최소화 하는 매개변수를 찾는 과정, Adam, SGD, RMSprop 등..\n",
        "# metrics : 훈련 단계와 테스트 단계를 모니터링하기 위해 사용\n",
        "\n",
        "model.compile(loss='categorical_crossentropy', optimizer='adam', metrics=['accuracy'])"
      ],
      "execution_count": null,
      "outputs": []
    },
    {
      "cell_type": "code",
      "metadata": {
        "id": "NkdXoPm3mQR0",
        "colab": {
          "base_uri": "https://localhost:8080/"
        },
        "outputId": "9098bbe7-53dc-4e92-a211-90de99c59ebf"
      },
      "source": [
        "# 학습\n",
        "# batch_size : 한번에 학습할 데이터의 갯수, 학습속도 vs 메모리\n",
        "# epochs : 전체 데이터를 몇 번 반복해서 학습 시킬 것인가\n",
        "# validation_data : 학습 중에 테스트할 데이터\n",
        "\n",
        "history = model.fit(x_train, y_train, batch_size=128, epochs=5, verbose=1, validation_data=(x_test, y_test))"
      ],
      "execution_count": null,
      "outputs": [
        {
          "output_type": "stream",
          "name": "stdout",
          "text": [
            "Epoch 1/5\n",
            "469/469 [==============================] - 3s 4ms/step - loss: 0.3477 - accuracy: 0.9039 - val_loss: 0.2087 - val_accuracy: 0.9406\n",
            "Epoch 2/5\n",
            "469/469 [==============================] - 2s 4ms/step - loss: 0.1644 - accuracy: 0.9532 - val_loss: 0.1337 - val_accuracy: 0.9607\n",
            "Epoch 3/5\n",
            "469/469 [==============================] - 2s 3ms/step - loss: 0.1186 - accuracy: 0.9664 - val_loss: 0.1143 - val_accuracy: 0.9664\n",
            "Epoch 4/5\n",
            "469/469 [==============================] - 2s 3ms/step - loss: 0.0924 - accuracy: 0.9733 - val_loss: 0.0999 - val_accuracy: 0.9704\n",
            "Epoch 5/5\n",
            "469/469 [==============================] - 2s 3ms/step - loss: 0.0739 - accuracy: 0.9789 - val_loss: 0.0899 - val_accuracy: 0.9730\n"
          ]
        }
      ]
    },
    {
      "cell_type": "code",
      "metadata": {
        "id": "dWLhmm0imQVk"
      },
      "source": [
        "# 테스트 이미지\n",
        "test_imgs = x_test[:3]"
      ],
      "execution_count": null,
      "outputs": []
    },
    {
      "cell_type": "code",
      "metadata": {
        "id": "2LUAZHyDmQZK"
      },
      "source": [
        "# 모델 테스트\n",
        "pred_num = model.predict(test_imgs)"
      ],
      "execution_count": null,
      "outputs": []
    },
    {
      "cell_type": "code",
      "metadata": {
        "id": "qv3nF-H5mQcU",
        "colab": {
          "base_uri": "https://localhost:8080/",
          "height": 926
        },
        "outputId": "876900df-b7f4-4122-b1d9-269ca8b76450"
      },
      "source": [
        "# 확인\n",
        "for i, img in enumerate(test_imgs):\n",
        "    plt.figure()\n",
        "    plt.imshow(img)\n",
        "    plt.show()\n",
        "    print(pred_num[i])\n",
        "    print(\"Number is\", pred_num[i].argmax())"
      ],
      "execution_count": null,
      "outputs": [
        {
          "output_type": "display_data",
          "data": {
            "image/png": "[encoded data removed]",
            "text/plain": [
              "<Figure size 432x288 with 1 Axes>"
            ]
          },
          "metadata": {
            "needs_background": "light"
          }
        },
        {
          "output_type": "stream",
          "name": "stdout",
          "text": [
            "[2.3932664e-06 4.0484142e-08 1.0158383e-04 1.0100870e-03 1.0094691e-08\n",
            " 1.2309539e-05 3.5082212e-10 9.9882442e-01 1.5763828e-06 4.7552618e-05]\n",
            "Number is 7\n"
          ]
        },
        {
          "output_type": "display_data",
          "data": {
            "image/png": "[encoded data removed]",
            "text/plain": [
              "<Figure size 432x288 with 1 Axes>"
            ]
          },
          "metadata": {
            "needs_background": "light"
          }
        },
        {
          "output_type": "stream",
          "name": "stdout",
          "text": [
            "[7.2660060e-07 9.8821823e-05 9.9947530e-01 4.0692752e-04 2.0555317e-12\n",
            " 1.1802055e-05 1.8931917e-06 3.7461028e-12 4.4738849e-06 3.6685252e-10]\n",
            "Number is 2\n"
          ]
        },
        {
          "output_type": "display_data",
          "data": {
            "image/png": "[encoded data removed]",
            "text/plain": [
              "<Figure size 432x288 with 1 Axes>"
            ]
          },
          "metadata": {
            "needs_background": "light"
          }
        },
        {
          "output_type": "stream",
          "name": "stdout",
          "text": [
            "[4.4991168e-05 9.9142367e-01 2.2682282e-03 1.3774086e-04 6.3116243e-04\n",
            " 1.9821788e-04 2.6236195e-04 3.5987133e-03 1.3759928e-03 5.8887978e-05]\n",
            "Number is 1\n"
          ]
        }
      ]
    }
  ]
}