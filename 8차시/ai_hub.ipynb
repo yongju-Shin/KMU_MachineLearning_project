{
 "cells": [
  {
   "cell_type": "markdown",
   "id": "72d32804-9684-42bf-81d9-0cebaf705f4c",
   "metadata": {},
   "source": [
    "---\n",
    "https://aihub.or.kr/opendata/keti-data/recognition-laguage/KETI-02-002"
   ]
  },
  {
   "cell_type": "code",
   "execution_count": null,
   "id": "6c6cea92-0bdf-4bf7-98ed-69817395c320",
   "metadata": {},
   "outputs": [],
   "source": [
    "from glob import glob\n",
    "import pandas as pd\n",
    "from pathlib import Path\n",
    "\n",
    "source = '감정 분류를 위한 대화 음성 데이터셋'\n",
    "csv = glob(f'label/{source}/*.csv')\n",
    "csv"
   ]
  },
  {
   "cell_type": "code",
   "execution_count": null,
   "id": "04906c31-e13d-4419-872b-e92dfd75bcf4",
   "metadata": {},
   "outputs": [],
   "source": [
    "dfs = [pd.read_csv(e, encoding='cp949') for e in csv]\n",
    "dfs[0]"
   ]
  },
  {
   "cell_type": "code",
   "execution_count": null,
   "id": "fc7b589b-8fe0-4ffb-b5b6-c3fe5d3275a8",
   "metadata": {},
   "outputs": [],
   "source": [
    "df = pd.concat(dfs)\n",
    "df"
   ]
  },
  {
   "cell_type": "code",
   "execution_count": null,
   "id": "f8e7914f-55a1-41ea-abdf-ebe2b69b66a5",
   "metadata": {},
   "outputs": [],
   "source": [
    "assert df['wav_id'].nunique() == len(df)"
   ]
  },
  {
   "cell_type": "code",
   "execution_count": null,
   "id": "213b678e-6a2f-433a-807f-ed60edb79e48",
   "metadata": {},
   "outputs": [],
   "source": [
    "df_01 = df[['wav_id', '발화문']].copy()\n",
    "df_01['source'] = source\n",
    "df_01"
   ]
  },
  {
   "cell_type": "markdown",
   "id": "70f1000d-f799-432b-8b9e-8ad8cb37966c",
   "metadata": {},
   "source": [
    "---\n",
    "https://aihub.or.kr/aidata/7978"
   ]
  },
  {
   "cell_type": "code",
   "execution_count": null,
   "id": "6bc66c90-81d7-47e0-ace3-b7cdcf1c7685",
   "metadata": {},
   "outputs": [],
   "source": [
    "!pip install openpyxl\n",
    "source = '감성대화'\n",
    "xlsx = f'label/{source}/감성대화말뭉치AI데이터_평가용Wave_대본1만문장.xlsx'\n",
    "assert Path(xlsx).exists()\n",
    "df_men = pd.read_excel(xlsx, sheet_name='5천문장_남자성우')\n",
    "df_men"
   ]
  },
  {
   "cell_type": "code",
   "execution_count": null,
   "id": "8698c340-7d25-43c4-aac6-38ce7e782082",
   "metadata": {},
   "outputs": [],
   "source": [
    "df_wemen = pd.read_excel(xlsx, sheet_name='5천문장_여자성우')\n",
    "df_wemen"
   ]
  },
  {
   "cell_type": "code",
   "execution_count": null,
   "id": "4c578d66-6007-46b9-9f1a-4775c5465e8e",
   "metadata": {},
   "outputs": [],
   "source": [
    "df = pd.concat([df_men, df_wemen])\n",
    "df"
   ]
  },
  {
   "cell_type": "code",
   "execution_count": null,
   "id": "637bd523-d389-4e9c-bf96-1ca3fcedbbc3",
   "metadata": {},
   "outputs": [],
   "source": [
    "df_02 = df[['NO.', '사람문장1']]\n",
    "df_02"
   ]
  },
  {
   "cell_type": "code",
   "execution_count": null,
   "id": "6023ee3b-d3b1-4be3-8069-d1ee221e5482",
   "metadata": {},
   "outputs": [],
   "source": [
    "df_02 = df_02.rename(columns={'NO.':'wav_id', '사람문장1':'발화문'})\n",
    "df_02"
   ]
  },
  {
   "cell_type": "code",
   "execution_count": null,
   "id": "87f045f9-6eaf-46a1-82f5-8e6f7aceaef1",
   "metadata": {},
   "outputs": [],
   "source": [
    "df_02['source'] = source\n",
    "df_02"
   ]
  },
  {
   "cell_type": "markdown",
   "id": "f7cdaf26-c29d-452c-89f7-e5e89ac87786",
   "metadata": {},
   "source": [
    "---\n",
    "### 합쳐서 저장"
   ]
  },
  {
   "cell_type": "code",
   "execution_count": null,
   "id": "878d6511-52f1-4a70-915d-896119bc858e",
   "metadata": {},
   "outputs": [],
   "source": [
    "df = pd.concat([df_01, df_02])\n",
    "df"
   ]
  },
  {
   "cell_type": "code",
   "execution_count": null,
   "id": "ff223be9-f4e3-4470-a0eb-c59e2274e8ad",
   "metadata": {},
   "outputs": [],
   "source": [
    "df.to_csv('label/merged_label.csv', index=False)"
   ]
  }
 ],
 "metadata": {
  "kernelspec": {
   "display_name": "Python 3 (ipykernel)",
   "language": "python",
   "name": "python3"
  },
  "language_info": {
   "codemirror_mode": {
    "name": "ipython",
    "version": 3
   },
   "file_extension": ".py",
   "mimetype": "text/x-python",
   "name": "python",
   "nbconvert_exporter": "python",
   "pygments_lexer": "ipython3",
   "version": "3.7.10"
  }
 },
 "nbformat": 4,
 "nbformat_minor": 5
}
