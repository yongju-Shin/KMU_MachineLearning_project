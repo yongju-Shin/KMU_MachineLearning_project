{
 "cells": [
  {
   "cell_type": "code",
   "execution_count": null,
   "id": "6f69dc46-c71e-4c35-8eca-91657bb66c39",
   "metadata": {},
   "outputs": [],
   "source": [
    "from PIL import Image\n",
    "Image.open('images/ocr.jpg')"
   ]
  },
  {
   "cell_type": "code",
   "execution_count": null,
   "id": "6df2fa40-671e-43f0-aaa8-876897c1a3df",
   "metadata": {},
   "outputs": [],
   "source": [
    "Image.open('images/asr.jpg')"
   ]
  },
  {
   "cell_type": "markdown",
   "id": "a880a747-8a13-4928-81ad-e37d36b1c280",
   "metadata": {},
   "source": [
    "## 한글 \n",
    "---\n",
    "### 초성, 중성, 종성 "
   ]
  },
  {
   "cell_type": "code",
   "execution_count": null,
   "id": "6d8cc4f9-3c63-41cb-82fe-7954c7e95c16",
   "metadata": {},
   "outputs": [],
   "source": [
    "초성 = [chr(e) for e in range(0x1100, 0x1113)]\n",
    "중성 = [chr(e) for e in range(0x1161, 0x1176)]\n",
    "종성 = [chr(e) for e in range(0x11A8, 0x11C3)]\n",
    "print(초성)\n",
    "print(중성)\n",
    "print(종성)"
   ]
  },
  {
   "cell_type": "code",
   "execution_count": null,
   "id": "0e045be5-9e04-4e4f-ab80-f94e129523e5",
   "metadata": {},
   "outputs": [],
   "source": [
    "print(초성[0])\n",
    "print(종성[0])"
   ]
  },
  {
   "cell_type": "code",
   "execution_count": null,
   "id": "20120968-4810-480d-9d26-e42814f459fa",
   "metadata": {},
   "outputs": [],
   "source": [
    "초성[0] == 종성[0]"
   ]
  },
  {
   "cell_type": "code",
   "execution_count": null,
   "id": "5aeda424-2ede-4f7f-b08a-787bf37415d9",
   "metadata": {},
   "outputs": [],
   "source": [
    "'ㄱ' == 'ㄱ',  'ㄱ' == 'ᆨ',  'ᆨ' == 'ᆨ'"
   ]
  },
  {
   "cell_type": "markdown",
   "id": "b055edde-cf52-439a-a5c8-a892c0cf95a2",
   "metadata": {},
   "source": [
    "---\n",
    "### len 길이 & print, display"
   ]
  },
  {
   "cell_type": "code",
   "execution_count": null,
   "id": "0aafefb3-162f-44ba-a034-e047aa68cf10",
   "metadata": {},
   "outputs": [],
   "source": [
    "len('각'), len('ㄱㄴㄷ'), len('ㄱㅏㄱ')"
   ]
  },
  {
   "cell_type": "code",
   "execution_count": null,
   "id": "7e22c2b4-3530-48f2-832d-da7256825108",
   "metadata": {},
   "outputs": [],
   "source": [
    "s1 = [초성[0], 중성[0], 종성[0]]\n",
    "s1"
   ]
  },
  {
   "cell_type": "code",
   "execution_count": null,
   "id": "5f961e5f-d4bc-400a-976b-e77db039fe53",
   "metadata": {},
   "outputs": [],
   "source": [
    "s1 = ''.join(s1)\n",
    "print(s1)\n",
    "s1"
   ]
  },
  {
   "cell_type": "code",
   "execution_count": null,
   "id": "796b4bc5-d7e5-43d3-b18a-6aefc6a85e32",
   "metadata": {},
   "outputs": [],
   "source": [
    "len(s1)"
   ]
  },
  {
   "cell_type": "code",
   "execution_count": null,
   "id": "410a86d4-b5fd-4d41-a45d-4aa51f452d3c",
   "metadata": {},
   "outputs": [],
   "source": [
    "len('각')"
   ]
  },
  {
   "cell_type": "markdown",
   "id": "5b4bd34b-2e81-466d-a16e-ed1f85bd1e5c",
   "metadata": {},
   "source": [
    "---\n",
    "### 자모 분리"
   ]
  },
  {
   "cell_type": "code",
   "execution_count": null,
   "id": "80824291-7a18-4889-a9b0-a313e5efcaf4",
   "metadata": {},
   "outputs": [],
   "source": [
    "t0 = '각 깪'\n",
    "t0, len(t0), list(t0)"
   ]
  },
  {
   "cell_type": "code",
   "execution_count": null,
   "id": "80d3d371-63ed-4764-ad8b-a46c6a56849d",
   "metadata": {},
   "outputs": [],
   "source": [
    "import unicodedata "
   ]
  },
  {
   "cell_type": "code",
   "execution_count": null,
   "id": "8b052bb2-8571-4d8e-91c6-b540122bc66c",
   "metadata": {},
   "outputs": [],
   "source": [
    "t1 = unicodedata.normalize('NFD', '각 깪')\n",
    "t1, len(t1), list(t1) "
   ]
  },
  {
   "cell_type": "code",
   "execution_count": null,
   "id": "fc263b09-d79d-4133-a41b-7a4ab46ec133",
   "metadata": {},
   "outputs": [],
   "source": [
    "t1 == t0"
   ]
  },
  {
   "cell_type": "markdown",
   "id": "3de3178c-45ad-4aee-89f8-6cf3e7e21eb8",
   "metadata": {},
   "source": [
    "---\n",
    "### 자모 결합 "
   ]
  },
  {
   "cell_type": "code",
   "execution_count": null,
   "id": "183f24b7-a759-4889-8bf7-593fd07c4bea",
   "metadata": {},
   "outputs": [],
   "source": [
    "t2 = [초성[0], 중성[0], 종성[0], ' ', 초성[1], 중성[1], 종성[1]]\n",
    "t2"
   ]
  },
  {
   "cell_type": "code",
   "execution_count": null,
   "id": "e0f37320-d921-4d66-a376-67007678ee2f",
   "metadata": {},
   "outputs": [],
   "source": [
    "t2 = ''.join(t2)\n",
    "t2"
   ]
  },
  {
   "cell_type": "code",
   "execution_count": null,
   "id": "bde608fb-a0f4-45b3-8d93-25eb9b717edf",
   "metadata": {},
   "outputs": [],
   "source": [
    "len(t2), t2 == t0"
   ]
  },
  {
   "cell_type": "code",
   "execution_count": null,
   "id": "1ac2d4cb-95e9-4ba5-8929-0c11b34d711d",
   "metadata": {},
   "outputs": [],
   "source": [
    "t3 = unicodedata.normalize('NFC', t2)\n",
    "t3"
   ]
  },
  {
   "cell_type": "code",
   "execution_count": null,
   "id": "5c69ba9a-1c1a-4068-a94b-156702103f27",
   "metadata": {},
   "outputs": [],
   "source": [
    "len(t3)"
   ]
  },
  {
   "cell_type": "code",
   "execution_count": null,
   "id": "b8df2a9d-22d8-4ba7-9a6e-c6d8a77dc81d",
   "metadata": {},
   "outputs": [],
   "source": [
    "t3 == t0"
   ]
  }
 ],
 "metadata": {
  "kernelspec": {
   "display_name": "Python 3 (ipykernel)",
   "language": "python",
   "name": "python3"
  },
  "language_info": {
   "codemirror_mode": {
    "name": "ipython",
    "version": 3
   },
   "file_extension": ".py",
   "mimetype": "text/x-python",
   "name": "python",
   "nbconvert_exporter": "python",
   "pygments_lexer": "ipython3",
   "version": "3.7.10"
  }
 },
 "nbformat": 4,
 "nbformat_minor": 5
}
